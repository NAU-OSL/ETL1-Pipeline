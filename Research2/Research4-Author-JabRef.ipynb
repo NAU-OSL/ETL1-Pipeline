{
 "cells": [
  {
   "cell_type": "code",
   "execution_count": 1,
   "metadata": {},
   "outputs": [],
   "source": [
    "import pandas as pd\n"
   ]
  },
  {
   "cell_type": "code",
   "execution_count": 3,
   "metadata": {},
   "outputs": [],
   "source": [
    "#inputToRead = \"/Users/fd252/Documents/NAU-OSL/GitHub-Repo-Extractor/outputs/powertoys_full/powertoys_commit_output.csv\"\n",
    "#inputToRead =  \"/Users/fd252/Library/CloudStorage/OneDrive-Personal/Production/ETL1-Pipeline-main/data/inputs/old/merged-closed-commits (3).csv\"\n",
    "#inputToRead =  \"/Users/fd252/Library/CloudStorage/OneDrive-Personal/Production/ETL1-Pipeline-main/data/inputs/old/merged-closed-commits (3).csv\"\n",
    "inputToRead =  \"/Users/fd252/Library/CloudStorage/OneDrive-Personal/Production/GitHub-Repo-Extractor/outputs/jabref_full/json/jabref_commit_output.csv\" "
   ]
  },
  {
   "cell_type": "code",
   "execution_count": 2,
   "metadata": {},
   "outputs": [],
   "source": [
    "fileNameOutput = \"/Users/fd252/OneDrive/Production/ETL1-Pipeline-main/data/outputs/new/jabref/dataframe_file_names.csv\""
   ]
  },
  {
   "cell_type": "code",
   "execution_count": 4,
   "metadata": {},
   "outputs": [],
   "source": [
    "filesPR4_TXT_Output = r\"/Users/fd252/OneDrive/Production/ETL1-Pipeline-main/data/outputs/new/jabref/filesPR4BodyTitle2.txt\""
   ]
  },
  {
   "cell_type": "code",
   "execution_count": 5,
   "metadata": {},
   "outputs": [],
   "source": [
    "filesPR4_CSV_Output = \"/Users/fd252/OneDrive/Production/ETL1-Pipeline-main/data/outputs/new/jabref/filesPR4BodyTitle2.csv\""
   ]
  },
  {
   "cell_type": "code",
   "execution_count": 6,
   "metadata": {},
   "outputs": [],
   "source": [
    "authorFilePath = pd.read_csv( inputToRead )\n"
   ]
  },
  {
   "cell_type": "code",
   "execution_count": 7,
   "metadata": {},
   "outputs": [
    {
     "data": {
      "text/html": [
       "<div>\n",
       "<style scoped>\n",
       "    .dataframe tbody tr th:only-of-type {\n",
       "        vertical-align: middle;\n",
       "    }\n",
       "\n",
       "    .dataframe tbody tr th {\n",
       "        vertical-align: top;\n",
       "    }\n",
       "\n",
       "    .dataframe thead th {\n",
       "        text-align: right;\n",
       "    }\n",
       "</style>\n",
       "<table border=\"1\" class=\"dataframe\">\n",
       "  <thead>\n",
       "    <tr style=\"text-align: right;\">\n",
       "      <th></th>\n",
       "      <th>Issue_Num</th>\n",
       "      <th>Author_Login</th>\n",
       "      <th>File_Name</th>\n",
       "      <th>Patch_Text</th>\n",
       "      <th>Commit_Message</th>\n",
       "      <th>Commit_Title</th>\n",
       "    </tr>\n",
       "  </thead>\n",
       "  <tbody>\n",
       "    <tr>\n",
       "      <th>0</th>\n",
       "      <td>1</td>\n",
       "      <td>Olaf Lenz</td>\n",
       "      <td>['src/java/net/sf/jabref/FileSortTab.java', 's...</td>\n",
       "      <td>@@ -0,0 +1,387 @@\\n+/*  Copyright (C) 2013 Jab...</td>\n",
       "      <td>This will add a new \"File Sorting\" Tab to the ...</td>\n",
       "      <td>New Sorting/Export preferences</td>\n",
       "    </tr>\n",
       "    <tr>\n",
       "      <th>1</th>\n",
       "      <td>2</td>\n",
       "      <td>Simon Harrer</td>\n",
       "      <td>['build-wrapper.xml', 'build.gradle', 'src/ext...</td>\n",
       "      <td>@@ -0,0 +1,3 @@\\n+&lt;project default=\"test\"&gt;\\n+ ...</td>\n",
       "      <td>This adds basic gradle integration. The projec...</td>\n",
       "      <td>Basic gradle integration</td>\n",
       "    </tr>\n",
       "    <tr>\n",
       "      <th>2</th>\n",
       "      <td>3</td>\n",
       "      <td>Egon Willighagen</td>\n",
       "      <td>['src/resource/JabRef_nl.properties']</td>\n",
       "      <td>@@ -34,7 +34,7 @@ Abbreviate_journal_names_of_...</td>\n",
       "      <td>NaN</td>\n",
       "      <td>Some example new Dutch translations via the Gi...</td>\n",
       "    </tr>\n",
       "    <tr>\n",
       "      <th>3</th>\n",
       "      <td>4</td>\n",
       "      <td>Jorge Tornero</td>\n",
       "      <td>['src/resource/JabRef_da.properties', 'src/res...</td>\n",
       "      <td>@@ -1,5 +1,5 @@\\n #!\\n-#! created/edited by Po...</td>\n",
       "      <td>Three new strings translated.</td>\n",
       "      <td>Spanish translation update</td>\n",
       "    </tr>\n",
       "    <tr>\n",
       "      <th>4</th>\n",
       "      <td>5</td>\n",
       "      <td>NaN</td>\n",
       "      <td>['src/resource/JabRef_in.properties']</td>\n",
       "      <td>@@ -1304,10 +1304,10 @@ Style_selection=Piliha...</td>\n",
       "      <td>Indonesian translation added</td>\n",
       "      <td>Update JabRef_in.properties</td>\n",
       "    </tr>\n",
       "  </tbody>\n",
       "</table>\n",
       "</div>"
      ],
      "text/plain": [
       "   Issue_Num      Author_Login  \\\n",
       "0          1         Olaf Lenz   \n",
       "1          2      Simon Harrer   \n",
       "2          3  Egon Willighagen   \n",
       "3          4     Jorge Tornero   \n",
       "4          5               NaN   \n",
       "\n",
       "                                           File_Name  \\\n",
       "0  ['src/java/net/sf/jabref/FileSortTab.java', 's...   \n",
       "1  ['build-wrapper.xml', 'build.gradle', 'src/ext...   \n",
       "2              ['src/resource/JabRef_nl.properties']   \n",
       "3  ['src/resource/JabRef_da.properties', 'src/res...   \n",
       "4              ['src/resource/JabRef_in.properties']   \n",
       "\n",
       "                                          Patch_Text  \\\n",
       "0  @@ -0,0 +1,387 @@\\n+/*  Copyright (C) 2013 Jab...   \n",
       "1  @@ -0,0 +1,3 @@\\n+<project default=\"test\">\\n+ ...   \n",
       "2  @@ -34,7 +34,7 @@ Abbreviate_journal_names_of_...   \n",
       "3  @@ -1,5 +1,5 @@\\n #!\\n-#! created/edited by Po...   \n",
       "4  @@ -1304,10 +1304,10 @@ Style_selection=Piliha...   \n",
       "\n",
       "                                      Commit_Message  \\\n",
       "0  This will add a new \"File Sorting\" Tab to the ...   \n",
       "1  This adds basic gradle integration. The projec...   \n",
       "2                                                NaN   \n",
       "3                      Three new strings translated.   \n",
       "4                       Indonesian translation added   \n",
       "\n",
       "                                        Commit_Title  \n",
       "0                     New Sorting/Export preferences  \n",
       "1                           Basic gradle integration  \n",
       "2  Some example new Dutch translations via the Gi...  \n",
       "3                         Spanish translation update  \n",
       "4                        Update JabRef_in.properties  "
      ]
     },
     "execution_count": 7,
     "metadata": {},
     "output_type": "execute_result"
    }
   ],
   "source": [
    "authorFilePath.head()"
   ]
  },
  {
   "cell_type": "code",
   "execution_count": 8,
   "metadata": {},
   "outputs": [
    {
     "data": {
      "text/plain": [
       "(4005, 6)"
      ]
     },
     "execution_count": 8,
     "metadata": {},
     "output_type": "execute_result"
    }
   ],
   "source": [
    "authorFilePath.shape\n"
   ]
  },
  {
   "cell_type": "code",
   "execution_count": 9,
   "metadata": {},
   "outputs": [
    {
     "data": {
      "text/plain": [
       "RangeIndex(start=0, stop=4005, step=1)"
      ]
     },
     "execution_count": 9,
     "metadata": {},
     "output_type": "execute_result"
    }
   ],
   "source": [
    "authorFilePath.index\n"
   ]
  },
  {
   "cell_type": "code",
   "execution_count": 10,
   "metadata": {},
   "outputs": [
    {
     "data": {
      "text/plain": [
       "Index(['Issue_Num', 'Author_Login', 'File_Name', 'Patch_Text',\n",
       "       'Commit_Message', 'Commit_Title'],\n",
       "      dtype='object')"
      ]
     },
     "execution_count": 10,
     "metadata": {},
     "output_type": "execute_result"
    }
   ],
   "source": [
    "authorFilePath.columns\n"
   ]
  },
  {
   "cell_type": "code",
   "execution_count": 11,
   "metadata": {},
   "outputs": [
    {
     "data": {
      "text/plain": [
       "Issue_Num          int64\n",
       "Author_Login      object\n",
       "File_Name         object\n",
       "Patch_Text        object\n",
       "Commit_Message    object\n",
       "Commit_Title      object\n",
       "dtype: object"
      ]
     },
     "execution_count": 11,
     "metadata": {},
     "output_type": "execute_result"
    }
   ],
   "source": [
    "authorFilePath.dtypes\n"
   ]
  },
  {
   "cell_type": "code",
   "execution_count": 12,
   "metadata": {},
   "outputs": [],
   "source": [
    "authorFilePath2 = authorFilePath.copy()\n"
   ]
  },
  {
   "cell_type": "code",
   "execution_count": 13,
   "metadata": {},
   "outputs": [
    {
     "data": {
      "text/plain": [
       "Index(['Issue_Num', 'Author_Login', 'File_Name', 'Patch_Text',\n",
       "       'Commit_Message', 'Commit_Title'],\n",
       "      dtype='object')"
      ]
     },
     "execution_count": 13,
     "metadata": {},
     "output_type": "execute_result"
    }
   ],
   "source": [
    "authorFilePath2.columns\n"
   ]
  },
  {
   "cell_type": "code",
   "execution_count": 14,
   "metadata": {},
   "outputs": [
    {
     "data": {
      "text/plain": [
       "0     ['src/java/net/sf/jabref/FileSortTab.java', 's...\n",
       "1     ['build-wrapper.xml', 'build.gradle', 'src/ext...\n",
       "2                 ['src/resource/JabRef_nl.properties']\n",
       "3     ['src/resource/JabRef_da.properties', 'src/res...\n",
       "4                 ['src/resource/JabRef_in.properties']\n",
       "5                         ['src/images/splash-dev.svg']\n",
       "6     ['src/main/java/net/sf/jabref/GUIGlobals.java'...\n",
       "7     ['src/main/java/net/sf/jabref/util/XMPUtil.java']\n",
       "8     ['src/main/java/net/sf/jabref/external/ACSPdfD...\n",
       "9     ['src/main/java/net/sf/jabref/BibtexEntry.java...\n",
       "10    ['src/main/java/net/sf/jabref/imports/MedlineP...\n",
       "11                                        ['CHANGELOG']\n",
       "12    ['src/main/java/net/sf/jabref/PreviewPrefsTab....\n",
       "13    ['src/main/java/net/sf/jabref/JabRef.java', 's...\n",
       "14    ['CHANGELOG', 'src/main/java/net/sf/jabref/Bib...\n",
       "15    ['CHANGELOG', 'src/main/resources/help/About.h...\n",
       "16    ['CHANGELOG', 'src/main/java/net/sf/jabref/Ent...\n",
       "17    ['CHANGELOG', 'src/main/java/net/sf/jabref/Ent...\n",
       "18    ['build.gradle', 'gradle/wrapper/gradle-wrappe...\n",
       "19     ['src/main/resources/resource/log4j.properties']\n",
       "20    ['src/main/java/net/sf/jabref/imports/BibtexPa...\n",
       "21    ['CHANGELOG', 'src/main/resources/help/About.h...\n",
       "22     ['src/main/java/net/sf/jabref/BibtexEntry.java']\n",
       "23    ['src/main/java/net/sf/jabref/imports/DBLPHelp...\n",
       "24    ['CHANGELOG', 'src/main/java/net/sf/jabref/Con...\n",
       "25    ['CHANGELOG', 'src/main/java/net/sf/jabref/exp...\n",
       "26    ['CHANGELOG', 'src/main/java/net/sf/jabref/Bas...\n",
       "27    ['CHANGELOG', 'src/main/java/net/sf/jabref/Bib...\n",
       "28    ['src/main/java/net/sf/jabref/gui/CleanUpActio...\n",
       "29    ['CHANGELOG', 'src/main/java/net/sf/jabref/Fie...\n",
       "30    ['CHANGELOG', 'src/main/java/net/sf/jabref/imp...\n",
       "Name: File_Name, dtype: object"
      ]
     },
     "execution_count": 14,
     "metadata": {},
     "output_type": "execute_result"
    }
   ],
   "source": [
    "authorFilePath2.loc[0:30,\"File_Name\"]"
   ]
  },
  {
   "cell_type": "code",
   "execution_count": 15,
   "metadata": {},
   "outputs": [
    {
     "name": "stderr",
     "output_type": "stream",
     "text": [
      "/var/folders/ml/4b8s5rpj5jb1021wqm7zryp8kcjd34/T/ipykernel_59272/2980407755.py:1: FutureWarning: The default value of regex will change from True to False in a future version. In addition, single character regular expressions will *not* be treated as literal strings when regex=True.\n",
      "  file_names_without_brackets = authorFilePath2.File_Name.str.replace(\"[\",\"\")\n"
     ]
    }
   ],
   "source": [
    "file_names_without_brackets = authorFilePath2.File_Name.str.replace(\"[\",\"\")"
   ]
  },
  {
   "cell_type": "code",
   "execution_count": 16,
   "metadata": {},
   "outputs": [
    {
     "data": {
      "text/plain": [
       "pandas.core.series.Series"
      ]
     },
     "execution_count": 16,
     "metadata": {},
     "output_type": "execute_result"
    }
   ],
   "source": [
    "type(file_names_without_brackets)"
   ]
  },
  {
   "cell_type": "code",
   "execution_count": 17,
   "metadata": {},
   "outputs": [
    {
     "name": "stderr",
     "output_type": "stream",
     "text": [
      "/var/folders/ml/4b8s5rpj5jb1021wqm7zryp8kcjd34/T/ipykernel_59272/3246466333.py:1: FutureWarning: The default value of regex will change from True to False in a future version. In addition, single character regular expressions will *not* be treated as literal strings when regex=True.\n",
      "  file_names_without_brackets2 = file_names_without_brackets.str.replace(\"]\",\"\")\n"
     ]
    }
   ],
   "source": [
    "file_names_without_brackets2 = file_names_without_brackets.str.replace(\"]\",\"\")"
   ]
  },
  {
   "cell_type": "code",
   "execution_count": 18,
   "metadata": {},
   "outputs": [
    {
     "data": {
      "text/plain": [
       "0    'src/java/net/sf/jabref/FileSortTab.java', 'sr...\n",
       "1    'build-wrapper.xml', 'build.gradle', 'src/exte...\n",
       "2                  'src/resource/JabRef_nl.properties'\n",
       "3    'src/resource/JabRef_da.properties', 'src/reso...\n",
       "4                  'src/resource/JabRef_in.properties'\n",
       "Name: File_Name, dtype: object"
      ]
     },
     "execution_count": 18,
     "metadata": {},
     "output_type": "execute_result"
    }
   ],
   "source": [
    "file_names_without_brackets2.head()"
   ]
  },
  {
   "cell_type": "code",
   "execution_count": 19,
   "metadata": {},
   "outputs": [],
   "source": [
    "authorFilePath[\"files\"] = file_names_without_brackets2"
   ]
  },
  {
   "cell_type": "code",
   "execution_count": 20,
   "metadata": {},
   "outputs": [],
   "source": [
    "dataframe_file_names = authorFilePath.files.str.split(\",\", expand=True)"
   ]
  },
  {
   "cell_type": "code",
   "execution_count": 21,
   "metadata": {},
   "outputs": [],
   "source": [
    "dataframe_file_names[\"pr\"] = authorFilePath[\"Issue_Num\"]"
   ]
  },
  {
   "cell_type": "code",
   "execution_count": 22,
   "metadata": {},
   "outputs": [],
   "source": [
    "dataframe_file_names[\"title\"] = authorFilePath[\"Commit_Title\"]"
   ]
  },
  {
   "cell_type": "code",
   "execution_count": 23,
   "metadata": {},
   "outputs": [],
   "source": [
    "dataframe_file_names[\"body\"] = authorFilePath[\"Commit_Message\"] "
   ]
  },
  {
   "cell_type": "code",
   "execution_count": 24,
   "metadata": {},
   "outputs": [],
   "source": [
    "dataframe_file_names[\"author\"] = authorFilePath[\"Author_Login\"]"
   ]
  },
  {
   "cell_type": "code",
   "execution_count": 25,
   "metadata": {},
   "outputs": [
    {
     "data": {
      "text/html": [
       "<div>\n",
       "<style scoped>\n",
       "    .dataframe tbody tr th:only-of-type {\n",
       "        vertical-align: middle;\n",
       "    }\n",
       "\n",
       "    .dataframe tbody tr th {\n",
       "        vertical-align: top;\n",
       "    }\n",
       "\n",
       "    .dataframe thead th {\n",
       "        text-align: right;\n",
       "    }\n",
       "</style>\n",
       "<table border=\"1\" class=\"dataframe\">\n",
       "  <thead>\n",
       "    <tr style=\"text-align: right;\">\n",
       "      <th></th>\n",
       "      <th>0</th>\n",
       "      <th>1</th>\n",
       "      <th>2</th>\n",
       "      <th>3</th>\n",
       "      <th>4</th>\n",
       "      <th>5</th>\n",
       "      <th>6</th>\n",
       "      <th>7</th>\n",
       "      <th>8</th>\n",
       "      <th>9</th>\n",
       "      <th>...</th>\n",
       "      <th>294</th>\n",
       "      <th>295</th>\n",
       "      <th>296</th>\n",
       "      <th>297</th>\n",
       "      <th>298</th>\n",
       "      <th>299</th>\n",
       "      <th>pr</th>\n",
       "      <th>title</th>\n",
       "      <th>body</th>\n",
       "      <th>author</th>\n",
       "    </tr>\n",
       "  </thead>\n",
       "  <tbody>\n",
       "    <tr>\n",
       "      <th>0</th>\n",
       "      <td>'src/java/net/sf/jabref/FileSortTab.java'</td>\n",
       "      <td>'src/java/net/sf/jabref/FileTab.java'</td>\n",
       "      <td>'src/java/net/sf/jabref/JabRefPreferences.java'</td>\n",
       "      <td>'src/java/net/sf/jabref/PrefsDialog3.java'</td>\n",
       "      <td>'src/java/net/sf/jabref/TablePrefsTab.java'</td>\n",
       "      <td>'src/java/net/sf/jabref/export/FileActions.java'</td>\n",
       "      <td>'src/java/net/sf/jabref/gui/ImportInspectionD...</td>\n",
       "      <td>'src/java/net/sf/jabref/gui/MainTable.java'</td>\n",
       "      <td>None</td>\n",
       "      <td>None</td>\n",
       "      <td>...</td>\n",
       "      <td>None</td>\n",
       "      <td>None</td>\n",
       "      <td>None</td>\n",
       "      <td>None</td>\n",
       "      <td>None</td>\n",
       "      <td>None</td>\n",
       "      <td>1</td>\n",
       "      <td>New Sorting/Export preferences</td>\n",
       "      <td>This will add a new \"File Sorting\" Tab to the ...</td>\n",
       "      <td>Olaf Lenz</td>\n",
       "    </tr>\n",
       "    <tr>\n",
       "      <th>1</th>\n",
       "      <td>'build-wrapper.xml'</td>\n",
       "      <td>'build.gradle'</td>\n",
       "      <td>'src/extensions/SimpleCsvImporter.java'</td>\n",
       "      <td>None</td>\n",
       "      <td>None</td>\n",
       "      <td>None</td>\n",
       "      <td>None</td>\n",
       "      <td>None</td>\n",
       "      <td>None</td>\n",
       "      <td>None</td>\n",
       "      <td>...</td>\n",
       "      <td>None</td>\n",
       "      <td>None</td>\n",
       "      <td>None</td>\n",
       "      <td>None</td>\n",
       "      <td>None</td>\n",
       "      <td>None</td>\n",
       "      <td>2</td>\n",
       "      <td>Basic gradle integration</td>\n",
       "      <td>This adds basic gradle integration. The projec...</td>\n",
       "      <td>Simon Harrer</td>\n",
       "    </tr>\n",
       "    <tr>\n",
       "      <th>2</th>\n",
       "      <td>'src/resource/JabRef_nl.properties'</td>\n",
       "      <td>None</td>\n",
       "      <td>None</td>\n",
       "      <td>None</td>\n",
       "      <td>None</td>\n",
       "      <td>None</td>\n",
       "      <td>None</td>\n",
       "      <td>None</td>\n",
       "      <td>None</td>\n",
       "      <td>None</td>\n",
       "      <td>...</td>\n",
       "      <td>None</td>\n",
       "      <td>None</td>\n",
       "      <td>None</td>\n",
       "      <td>None</td>\n",
       "      <td>None</td>\n",
       "      <td>None</td>\n",
       "      <td>3</td>\n",
       "      <td>Some example new Dutch translations via the Gi...</td>\n",
       "      <td>NaN</td>\n",
       "      <td>Egon Willighagen</td>\n",
       "    </tr>\n",
       "    <tr>\n",
       "      <th>3</th>\n",
       "      <td>'src/resource/JabRef_da.properties'</td>\n",
       "      <td>'src/resource/JabRef_de.properties'</td>\n",
       "      <td>'src/resource/JabRef_en.properties'</td>\n",
       "      <td>'src/resource/JabRef_es.properties'</td>\n",
       "      <td>'src/resource/JabRef_fr.properties'</td>\n",
       "      <td>'src/resource/JabRef_in.properties'</td>\n",
       "      <td>'src/resource/JabRef_it.properties'</td>\n",
       "      <td>'src/resource/JabRef_nl.properties'</td>\n",
       "      <td>'src/resource/JabRef_no.properties'</td>\n",
       "      <td>'src/resource/JabRef_pt_BR.properties'</td>\n",
       "      <td>...</td>\n",
       "      <td>None</td>\n",
       "      <td>None</td>\n",
       "      <td>None</td>\n",
       "      <td>None</td>\n",
       "      <td>None</td>\n",
       "      <td>None</td>\n",
       "      <td>4</td>\n",
       "      <td>Spanish translation update</td>\n",
       "      <td>Three new strings translated.</td>\n",
       "      <td>Jorge Tornero</td>\n",
       "    </tr>\n",
       "    <tr>\n",
       "      <th>4</th>\n",
       "      <td>'src/resource/JabRef_in.properties'</td>\n",
       "      <td>None</td>\n",
       "      <td>None</td>\n",
       "      <td>None</td>\n",
       "      <td>None</td>\n",
       "      <td>None</td>\n",
       "      <td>None</td>\n",
       "      <td>None</td>\n",
       "      <td>None</td>\n",
       "      <td>None</td>\n",
       "      <td>...</td>\n",
       "      <td>None</td>\n",
       "      <td>None</td>\n",
       "      <td>None</td>\n",
       "      <td>None</td>\n",
       "      <td>None</td>\n",
       "      <td>None</td>\n",
       "      <td>5</td>\n",
       "      <td>Update JabRef_in.properties</td>\n",
       "      <td>Indonesian translation added</td>\n",
       "      <td>NaN</td>\n",
       "    </tr>\n",
       "  </tbody>\n",
       "</table>\n",
       "<p>5 rows × 304 columns</p>\n",
       "</div>"
      ],
      "text/plain": [
       "                                           0  \\\n",
       "0  'src/java/net/sf/jabref/FileSortTab.java'   \n",
       "1                        'build-wrapper.xml'   \n",
       "2        'src/resource/JabRef_nl.properties'   \n",
       "3        'src/resource/JabRef_da.properties'   \n",
       "4        'src/resource/JabRef_in.properties'   \n",
       "\n",
       "                                        1  \\\n",
       "0   'src/java/net/sf/jabref/FileTab.java'   \n",
       "1                          'build.gradle'   \n",
       "2                                    None   \n",
       "3     'src/resource/JabRef_de.properties'   \n",
       "4                                    None   \n",
       "\n",
       "                                                  2  \\\n",
       "0   'src/java/net/sf/jabref/JabRefPreferences.java'   \n",
       "1           'src/extensions/SimpleCsvImporter.java'   \n",
       "2                                              None   \n",
       "3               'src/resource/JabRef_en.properties'   \n",
       "4                                              None   \n",
       "\n",
       "                                             3  \\\n",
       "0   'src/java/net/sf/jabref/PrefsDialog3.java'   \n",
       "1                                         None   \n",
       "2                                         None   \n",
       "3          'src/resource/JabRef_es.properties'   \n",
       "4                                         None   \n",
       "\n",
       "                                              4  \\\n",
       "0   'src/java/net/sf/jabref/TablePrefsTab.java'   \n",
       "1                                          None   \n",
       "2                                          None   \n",
       "3           'src/resource/JabRef_fr.properties'   \n",
       "4                                          None   \n",
       "\n",
       "                                                   5  \\\n",
       "0   'src/java/net/sf/jabref/export/FileActions.java'   \n",
       "1                                               None   \n",
       "2                                               None   \n",
       "3                'src/resource/JabRef_in.properties'   \n",
       "4                                               None   \n",
       "\n",
       "                                                   6  \\\n",
       "0   'src/java/net/sf/jabref/gui/ImportInspectionD...   \n",
       "1                                               None   \n",
       "2                                               None   \n",
       "3                'src/resource/JabRef_it.properties'   \n",
       "4                                               None   \n",
       "\n",
       "                                              7  \\\n",
       "0   'src/java/net/sf/jabref/gui/MainTable.java'   \n",
       "1                                          None   \n",
       "2                                          None   \n",
       "3           'src/resource/JabRef_nl.properties'   \n",
       "4                                          None   \n",
       "\n",
       "                                      8  \\\n",
       "0                                  None   \n",
       "1                                  None   \n",
       "2                                  None   \n",
       "3   'src/resource/JabRef_no.properties'   \n",
       "4                                  None   \n",
       "\n",
       "                                         9  ...   294   295   296   297   298  \\\n",
       "0                                     None  ...  None  None  None  None  None   \n",
       "1                                     None  ...  None  None  None  None  None   \n",
       "2                                     None  ...  None  None  None  None  None   \n",
       "3   'src/resource/JabRef_pt_BR.properties'  ...  None  None  None  None  None   \n",
       "4                                     None  ...  None  None  None  None  None   \n",
       "\n",
       "    299 pr                                              title  \\\n",
       "0  None  1                     New Sorting/Export preferences   \n",
       "1  None  2                           Basic gradle integration   \n",
       "2  None  3  Some example new Dutch translations via the Gi...   \n",
       "3  None  4                         Spanish translation update   \n",
       "4  None  5                        Update JabRef_in.properties   \n",
       "\n",
       "                                                body            author  \n",
       "0  This will add a new \"File Sorting\" Tab to the ...         Olaf Lenz  \n",
       "1  This adds basic gradle integration. The projec...      Simon Harrer  \n",
       "2                                                NaN  Egon Willighagen  \n",
       "3                      Three new strings translated.     Jorge Tornero  \n",
       "4                       Indonesian translation added               NaN  \n",
       "\n",
       "[5 rows x 304 columns]"
      ]
     },
     "execution_count": 25,
     "metadata": {},
     "output_type": "execute_result"
    }
   ],
   "source": [
    "dataframe_file_names.head()"
   ]
  },
  {
   "cell_type": "code",
   "execution_count": 26,
   "metadata": {},
   "outputs": [],
   "source": [
    "dataframe_file_names.to_csv( fileNameOutput, encoding='utf-8', index=False)\n",
    "            "
   ]
  },
  {
   "cell_type": "code",
   "execution_count": 27,
   "metadata": {},
   "outputs": [],
   "source": [
    "files_list2 = []\n",
    "def filter_java2(lines):\n",
    " \n",
    "    for i, v in lines.items():\n",
    "        pr = lines[\"pr\"]\n",
    "        print(\"Lines:\",i, lines[\"pr\"])\n",
    "        if v is not None:\n",
    "            if type(v) == str:\n",
    "        \n",
    "                if (v.find('.java') != -1): \n",
    "                    print(\"java:\",v)\n",
    "                    dict1 = {}\n",
    "                    # get input row in dictionary format\n",
    "                    # key = col_name\n",
    "                    d = {pr:v}\n",
    "                    dict1.update(d) \n",
    "\n",
    "                    files_list2.append(dict1)\n",
    "                else:\n",
    "                    print(\"not a java file:\",v, \"idx\", i)\n",
    "            else:\n",
    "                print(\"not a String:\", v, \"idx\", i)\n",
    "        else:\n",
    "            print(\"None:\", v, \"idx\", i)\n",
    "    df_fn_filtered = pd.DataFrame(files_list)\n",
    "\n",
    "        \n",
    "        "
   ]
  },
  {
   "cell_type": "code",
   "execution_count": 28,
   "metadata": {},
   "outputs": [],
   "source": [
    "#dataframe_file_names.apply(filter_java2, axis=1)"
   ]
  },
  {
   "cell_type": "code",
   "execution_count": 29,
   "metadata": {},
   "outputs": [],
   "source": [
    "files_list = []\n",
    "def filter_java0(lines):\n",
    " \n",
    "    for i, v in lines.items():\n",
    "        #pr = lines[\"pr\"]\n",
    "        #print(\"Lines:\",i, lines[\"pr\"])\n",
    "        if v is not None:\n",
    "            if type(v) == str:\n",
    "        \n",
    "                if (v.find('.java') != -1): \n",
    "                    print(\"java:\",v)\n",
    "                    dict1 = {}\n",
    "                    # get input row in dictionary format\n",
    "                    # key = col_name\n",
    "                    d = {i:v}\n",
    "                    dict1.update(d) \n",
    "\n",
    "                    files_list.append(dict1)\n",
    "                else:\n",
    "                    print(\"not a java file:\",v, \"idx\", i)\n",
    "            else:\n",
    "                print(\"not a String:\", v, \"idx\", i)\n",
    "        else:\n",
    "            print(\"None:\", v, \"idx\", i)"
   ]
  },
  {
   "cell_type": "code",
   "execution_count": 30,
   "metadata": {},
   "outputs": [],
   "source": [
    "#dataframe_file_names.apply(filter_java0, axis=0)\n"
   ]
  },
  {
   "cell_type": "code",
   "execution_count": 31,
   "metadata": {},
   "outputs": [],
   "source": [
    "#files_list"
   ]
  },
  {
   "cell_type": "code",
   "execution_count": 32,
   "metadata": {},
   "outputs": [],
   "source": [
    "#files_list2"
   ]
  },
  {
   "cell_type": "code",
   "execution_count": 33,
   "metadata": {},
   "outputs": [],
   "source": [
    "#df_fn_filtered0 = pd.DataFrame(files_list)\n"
   ]
  },
  {
   "cell_type": "code",
   "execution_count": 34,
   "metadata": {},
   "outputs": [],
   "source": [
    "#df_fn_filtered2 = pd.DataFrame(files_list2)"
   ]
  },
  {
   "cell_type": "code",
   "execution_count": 35,
   "metadata": {},
   "outputs": [],
   "source": [
    "#df_fn_filtered0"
   ]
  },
  {
   "cell_type": "code",
   "execution_count": 36,
   "metadata": {},
   "outputs": [],
   "source": [
    "#df_fn_filtered2"
   ]
  },
  {
   "cell_type": "code",
   "execution_count": 37,
   "metadata": {},
   "outputs": [],
   "source": [
    "#df_fn_filtered0.to_csv('/Users/fd252/Documents/Cursos3/NAU/Research2/Python/data/filesPR0.csv', encoding='utf-8', index=False)"
   ]
  },
  {
   "cell_type": "code",
   "execution_count": 38,
   "metadata": {},
   "outputs": [],
   "source": [
    "#df_fn_filtered2.to_csv('/Users/fd252/Documents/Cursos3/NAU/Research2/Python/data/filesPR2.csv', encoding='utf-8', index=False)"
   ]
  },
  {
   "cell_type": "code",
   "execution_count": 39,
   "metadata": {},
   "outputs": [
    {
     "data": {
      "text/plain": [
       "0                 'src/java/net/sf/jabref/FileSortTab.java'\n",
       "1                     'src/java/net/sf/jabref/FileTab.java'\n",
       "2           'src/java/net/sf/jabref/JabRefPreferences.java'\n",
       "3                'src/java/net/sf/jabref/PrefsDialog3.java'\n",
       "4               'src/java/net/sf/jabref/TablePrefsTab.java'\n",
       "                                ...                        \n",
       "299                                                    None\n",
       "pr                                                        1\n",
       "title                        New Sorting/Export preferences\n",
       "body      This will add a new \"File Sorting\" Tab to the ...\n",
       "author                                            Olaf Lenz\n",
       "Name: 0, Length: 304, dtype: object"
      ]
     },
     "execution_count": 39,
     "metadata": {},
     "output_type": "execute_result"
    }
   ],
   "source": [
    "dataframe_file_names.loc[0,:]    "
   ]
  },
  {
   "cell_type": "code",
   "execution_count": 40,
   "metadata": {},
   "outputs": [
    {
     "data": {
      "text/plain": [
       "pandas.core.frame.DataFrame"
      ]
     },
     "execution_count": 40,
     "metadata": {},
     "output_type": "execute_result"
    }
   ],
   "source": [
    "type(dataframe_file_names.loc[:,:])"
   ]
  },
  {
   "cell_type": "code",
   "execution_count": 41,
   "metadata": {},
   "outputs": [
    {
     "name": "stdout",
     "output_type": "stream",
     "text": [
      "0\n",
      "1\n",
      "2\n",
      "3\n",
      "4\n",
      "5\n",
      "6\n",
      "7\n",
      "8\n",
      "9\n",
      "10\n",
      "11\n",
      "12\n",
      "13\n",
      "14\n",
      "15\n",
      "16\n",
      "17\n",
      "18\n",
      "19\n",
      "20\n",
      "21\n",
      "22\n",
      "23\n",
      "24\n",
      "25\n",
      "26\n",
      "27\n",
      "28\n",
      "29\n",
      "30\n",
      "31\n",
      "32\n",
      "33\n",
      "34\n",
      "35\n",
      "36\n",
      "37\n",
      "38\n",
      "39\n",
      "40\n",
      "41\n",
      "42\n",
      "43\n",
      "44\n",
      "45\n",
      "46\n",
      "47\n",
      "48\n",
      "49\n",
      "50\n",
      "51\n",
      "52\n",
      "53\n",
      "54\n",
      "55\n",
      "56\n",
      "57\n",
      "58\n",
      "59\n",
      "60\n",
      "61\n",
      "62\n",
      "63\n",
      "64\n",
      "65\n",
      "66\n",
      "67\n",
      "68\n",
      "69\n",
      "70\n",
      "71\n",
      "72\n",
      "73\n",
      "74\n",
      "75\n",
      "76\n",
      "77\n",
      "78\n",
      "79\n",
      "80\n",
      "81\n",
      "82\n",
      "83\n",
      "84\n",
      "85\n",
      "86\n",
      "87\n",
      "88\n",
      "89\n",
      "90\n",
      "91\n",
      "92\n",
      "93\n",
      "94\n",
      "95\n",
      "96\n",
      "97\n",
      "98\n",
      "99\n",
      "100\n",
      "101\n",
      "102\n",
      "103\n",
      "104\n",
      "105\n",
      "106\n",
      "107\n",
      "108\n",
      "109\n",
      "110\n",
      "111\n",
      "112\n",
      "113\n",
      "114\n",
      "115\n",
      "116\n",
      "117\n",
      "118\n",
      "119\n",
      "120\n",
      "121\n",
      "122\n",
      "123\n",
      "124\n",
      "125\n",
      "126\n",
      "127\n",
      "128\n",
      "129\n",
      "130\n",
      "131\n",
      "132\n",
      "133\n",
      "134\n",
      "135\n",
      "136\n",
      "137\n",
      "138\n",
      "139\n",
      "140\n",
      "141\n",
      "142\n",
      "143\n",
      "144\n",
      "145\n",
      "146\n",
      "147\n",
      "148\n",
      "149\n",
      "150\n",
      "151\n",
      "152\n",
      "153\n",
      "154\n",
      "155\n",
      "156\n",
      "157\n",
      "158\n",
      "159\n",
      "160\n",
      "161\n",
      "162\n",
      "163\n",
      "164\n",
      "165\n",
      "166\n",
      "167\n",
      "168\n",
      "169\n",
      "170\n",
      "171\n",
      "172\n",
      "173\n",
      "174\n",
      "175\n",
      "176\n",
      "177\n",
      "178\n",
      "179\n",
      "180\n",
      "181\n",
      "182\n",
      "183\n",
      "184\n",
      "185\n",
      "186\n",
      "187\n",
      "188\n",
      "189\n",
      "190\n",
      "191\n",
      "192\n",
      "193\n",
      "194\n",
      "195\n",
      "196\n",
      "197\n",
      "198\n",
      "199\n",
      "200\n",
      "201\n",
      "202\n",
      "203\n",
      "204\n",
      "205\n",
      "206\n",
      "207\n",
      "208\n",
      "209\n",
      "210\n",
      "211\n",
      "212\n",
      "213\n",
      "214\n",
      "215\n",
      "216\n",
      "217\n",
      "218\n",
      "219\n",
      "220\n",
      "221\n",
      "222\n",
      "223\n",
      "224\n",
      "225\n",
      "226\n",
      "227\n",
      "228\n",
      "229\n",
      "230\n",
      "231\n",
      "232\n",
      "233\n",
      "234\n",
      "235\n",
      "236\n",
      "237\n",
      "238\n",
      "239\n",
      "240\n",
      "241\n",
      "242\n",
      "243\n",
      "244\n",
      "245\n",
      "246\n",
      "247\n",
      "248\n",
      "249\n",
      "250\n",
      "251\n",
      "252\n",
      "253\n",
      "254\n",
      "255\n",
      "256\n",
      "257\n",
      "258\n",
      "259\n",
      "260\n",
      "261\n",
      "262\n",
      "263\n",
      "264\n",
      "265\n",
      "266\n",
      "267\n",
      "268\n",
      "269\n",
      "270\n",
      "271\n",
      "272\n",
      "273\n",
      "274\n",
      "275\n",
      "276\n",
      "277\n",
      "278\n",
      "279\n",
      "280\n",
      "281\n",
      "282\n",
      "283\n",
      "284\n",
      "285\n",
      "286\n",
      "287\n",
      "288\n",
      "289\n",
      "290\n",
      "291\n",
      "292\n",
      "293\n",
      "294\n",
      "295\n",
      "296\n",
      "297\n",
      "298\n",
      "299\n",
      "pr\n",
      "title\n",
      "body\n",
      "author\n"
     ]
    }
   ],
   "source": [
    "for row in dataframe_file_names:\n",
    "    print (row)\n",
    "    \n",
    "    "
   ]
  },
  {
   "cell_type": "code",
   "execution_count": 59,
   "metadata": {},
   "outputs": [],
   "source": [
    "files_list3 = []\n",
    "\n",
    "def filter_java3(lines):\n",
    " \n",
    "    for i, v in lines.items():\n",
    "        \n",
    "        pr = lines[\"pr\"]\n",
    "        author = str(lines[\"author\"])\n",
    "        #author = author.replace(\"\\n\", \" \") #.str.replace\n",
    "        #author = author.replace(\"\\\"\", \" \")\n",
    "        #author = author.replace(\"\\'\", \" \")\n",
    "        #author = author.replace(\"`\", \" \")\n",
    "        #author = author.replace(\";\", \" \")\n",
    "        #author = author.replace(\",\", \" \")\n",
    "        #v = lines[\"java\"]\n",
    "        \n",
    "        body = str(lines[\"body\"])\n",
    "        #type(body)\n",
    "        #print(body)\n",
    "        body = body.replace(\"\\n\", \" \") #.str.replace\n",
    "        body = body.replace(\"\\\"\", \" \")\n",
    "        body = body.replace(\"\\'\", \" \")\n",
    "        body = body.replace(\"`\", \" \")\n",
    "        body = body.replace(\";\", \" \")\n",
    "        body = body.replace(\",\", \" \")\n",
    "        \n",
    "        title = lines[\"title\"]\n",
    "        title = title.replace(\"\\n\", \" \")\n",
    "        title = title.replace(\"\\\"\", \" \")\n",
    "        title = title.replace(\"\\'\", \" \")\n",
    "        title = title.replace(\"`\", \" \")\n",
    "        title = title.replace(\";\", \" \")\n",
    "        title = title.replace(\",\", \" \")\n",
    "        #print(\"Lines:\",i, lines[\"pr\"])\n",
    "        if v is not None:\n",
    "            if type(v) == str:\n",
    "                if i == \"pr\" or i == \"body\" or i == \"title\" or i == \"author\":\n",
    "                    pass\n",
    "                else:\n",
    "                    if (v.find('.java') != -1): \n",
    "                        #print(\"write pr:\", pr,\" java:\",v)\n",
    "\n",
    "                        #dict1 = {}\n",
    "                        # get input row in dictionary format\n",
    "                        # key = col_name\n",
    "                        #d = {pr:v}\n",
    "                        #dict1.update(d) \n",
    "\n",
    "                        #files_list3.append(dict1)\n",
    "                        data = pr,\";\",v,\";\",title,\";\",body, \";\",author\n",
    "                        files_list3.append(data)\n",
    "                    #else:\n",
    "                        #print(\"not a java file:\",v, \" idx\", i)\n",
    "            #else:\n",
    "                #print(\"not a String:\", v, \" idx\", i)\n",
    "        #else:\n",
    "            #print(\"None:\", v, \" idx\", i)\n",
    "    "
   ]
  },
  {
   "cell_type": "code",
   "execution_count": 60,
   "metadata": {},
   "outputs": [
    {
     "data": {
      "text/plain": [
       "0       None\n",
       "1       None\n",
       "2       None\n",
       "3       None\n",
       "4       None\n",
       "        ... \n",
       "4000    None\n",
       "4001    None\n",
       "4002    None\n",
       "4003    None\n",
       "4004    None\n",
       "Length: 4005, dtype: object"
      ]
     },
     "execution_count": 60,
     "metadata": {},
     "output_type": "execute_result"
    }
   ],
   "source": [
    "dataframe_file_names.apply(filter_java3, axis=1)"
   ]
  },
  {
   "cell_type": "code",
   "execution_count": 61,
   "metadata": {},
   "outputs": [],
   "source": [
    "#files_list=[]"
   ]
  },
  {
   "cell_type": "code",
   "execution_count": 62,
   "metadata": {},
   "outputs": [],
   "source": [
    "#files_list0=[]"
   ]
  },
  {
   "cell_type": "code",
   "execution_count": 63,
   "metadata": {},
   "outputs": [],
   "source": [
    "#files_list2=[]\n"
   ]
  },
  {
   "cell_type": "code",
   "execution_count": 64,
   "metadata": {},
   "outputs": [],
   "source": [
    "#del df_fn_filtered0"
   ]
  },
  {
   "cell_type": "code",
   "execution_count": 65,
   "metadata": {},
   "outputs": [],
   "source": [
    "#del df_fn_filtered2"
   ]
  },
  {
   "cell_type": "code",
   "execution_count": 66,
   "metadata": {},
   "outputs": [],
   "source": [
    "df_fn_filtered3 = pd.DataFrame(files_list3)"
   ]
  },
  {
   "cell_type": "code",
   "execution_count": 67,
   "metadata": {},
   "outputs": [],
   "source": [
    "files_list3 = []"
   ]
  },
  {
   "cell_type": "code",
   "execution_count": 68,
   "metadata": {},
   "outputs": [],
   "source": [
    "pd.set_option('display.width', 30000)\n",
    "pd.set_option('display.max_columns', 1000)\n",
    "pd.set_option('display.max_colwidth', 1000)"
   ]
  },
  {
   "cell_type": "code",
   "execution_count": 69,
   "metadata": {},
   "outputs": [
    {
     "data": {
      "text/plain": [
       "0                                                                                                                                                                                                                                                                                                                                                                                                                                                                                                                                                                                                                                                                                                                                                                         This will add a new  File Sorting  Tab to the preferences that allows to exactly specify the sort and export order of entries  rather than the rather limited set of choices that were available to date.\n",
       "1                                                                                                                                                                                                                                                                                                                                                                                                                                                                                                                                                                                                                                                                                                                                                                         This will add a new  File Sorting  Tab to the preferences that allows to exactly specify the sort and export order of entries  rather than the rather limited set of choices that were available to date.\n",
       "2                                                                                                                                                                                                                                                                                                                                                                                                                                                                                                                                                                                                                                                                                                                                                                         This will add a new  File Sorting  Tab to the preferences that allows to exactly specify the sort and export order of entries  rather than the rather limited set of choices that were available to date.\n",
       "3                                                                                                                                                                                                                                                                                                                                                                                                                                                                                                                                                                                                                                                                                                                                                                         This will add a new  File Sorting  Tab to the preferences that allows to exactly specify the sort and export order of entries  rather than the rather limited set of choices that were available to date.\n",
       "4                                                                                                                                                                                                                                                                                                                                                                                                                                                                                                                                                                                                                                                                                                                                                                         This will add a new  File Sorting  Tab to the preferences that allows to exactly specify the sort and export order of entries  rather than the rather limited set of choices that were available to date.\n",
       "5                                                                                                                                                                                                                                                                                                                                                                                                                                                                                                                                                                                                                                                                                                                                                                         This will add a new  File Sorting  Tab to the preferences that allows to exactly specify the sort and export order of entries  rather than the rather limited set of choices that were available to date.\n",
       "6                                                                                                                                                                                                                                                                                                                                                                                                                                                                                                                                                                                                                                                                                                                                                                         This will add a new  File Sorting  Tab to the preferences that allows to exactly specify the sort and export order of entries  rather than the rather limited set of choices that were available to date.\n",
       "7                                                                                                                                                                                                                                                                                                                                                                                                                                                                                                                                                                                                                                                                                                                                                                         This will add a new  File Sorting  Tab to the preferences that allows to exactly specify the sort and export order of entries  rather than the rather limited set of choices that were available to date.\n",
       "8                                                                                                                                                                                                                                                                                                                                                                                                                                                                                                                                                                                                                                                                                                                                                                                      This adds basic gradle integration. The project files for Intellij and Eclipse can be generated and JabRef can be started from within the IDEs as well as the tests can be run with errors. \n",
       "9         The user can now specify an arbitrary number of file-link columns in te  Entry table columns  preferences tab  to be added to the main table. The user can any file types specified in the list of External File Types. The extra columns work exactly like the original file-link column.  For each file-link column whenever there are multiple files  the letter  m  is displayed at the bottom right corner of the icon.       Committer: noravanq   On branch master  Changes to be committed:    (use  git reset HEAD <file>...  to unstage)      modified:   src/main/java/net/sf/jabref/GUIGlobals.java modified:   src/main/java/net/sf/jabref/JabRefPreferences.java modified:   src/main/java/net/sf/jabref/TableColumnsTab.java modified:   src/main/java/net/sf/jabref/gui/MainTableFormat.java modified:   src/main/java/net/sf/jabref/gui/MainTableSelectionListener.java modified:   src/main/java/net/sf/jabref/gui/PreventDraggingJTableHeader.java    \n",
       "10        The user can now specify an arbitrary number of file-link columns in te  Entry table columns  preferences tab  to be added to the main table. The user can any file types specified in the list of External File Types. The extra columns work exactly like the original file-link column.  For each file-link column whenever there are multiple files  the letter  m  is displayed at the bottom right corner of the icon.       Committer: noravanq   On branch master  Changes to be committed:    (use  git reset HEAD <file>...  to unstage)      modified:   src/main/java/net/sf/jabref/GUIGlobals.java modified:   src/main/java/net/sf/jabref/JabRefPreferences.java modified:   src/main/java/net/sf/jabref/TableColumnsTab.java modified:   src/main/java/net/sf/jabref/gui/MainTableFormat.java modified:   src/main/java/net/sf/jabref/gui/MainTableSelectionListener.java modified:   src/main/java/net/sf/jabref/gui/PreventDraggingJTableHeader.java    \n",
       "Name: 6, dtype: object"
      ]
     },
     "execution_count": 69,
     "metadata": {},
     "output_type": "execute_result"
    }
   ],
   "source": [
    "df_fn_filtered3.loc[0:10,6]\n"
   ]
  },
  {
   "cell_type": "code",
   "execution_count": 70,
   "metadata": {},
   "outputs": [],
   "source": [
    "#del df_fn_filtered3"
   ]
  },
  {
   "cell_type": "code",
   "execution_count": 71,
   "metadata": {},
   "outputs": [
    {
     "data": {
      "text/plain": [
       "0"
      ]
     },
     "execution_count": 71,
     "metadata": {},
     "output_type": "execute_result"
    }
   ],
   "source": [
    "import gc\n",
    "gc.collect()"
   ]
  },
  {
   "cell_type": "code",
   "execution_count": 72,
   "metadata": {},
   "outputs": [],
   "source": [
    "df_fn_filtered3.to_csv( filesPR4_CSV_Output, encoding='utf-8', header=False, index=False, sep='\\t' )"
   ]
  },
  {
   "cell_type": "code",
   "execution_count": 73,
   "metadata": {},
   "outputs": [],
   "source": [
    "import numpy as np\n",
    "np.savetxt( filesPR4_TXT_Output, df_fn_filtered3.values, fmt='%s', delimiter=' ' )"
   ]
  },
  {
   "cell_type": "code",
   "execution_count": 74,
   "metadata": {},
   "outputs": [],
   "source": [
    "#import numpy as np\n",
    "#np.savetxt(r\"/home/j/git/ETL1-Pipeline/data/outputs/new/mockito/filesPR3BodyTitle2.txt\", df_fn_filtered3.values, fmt='%s', delimiter=' ')"
   ]
  },
  {
   "cell_type": "code",
   "execution_count": 75,
   "metadata": {},
   "outputs": [],
   "source": [
    "del df_fn_filtered3"
   ]
  },
  {
   "cell_type": "code",
   "execution_count": null,
   "metadata": {},
   "outputs": [],
   "source": []
  },
  {
   "cell_type": "code",
   "execution_count": null,
   "metadata": {},
   "outputs": [],
   "source": []
  },
  {
   "cell_type": "code",
   "execution_count": null,
   "metadata": {},
   "outputs": [],
   "source": []
  },
  {
   "cell_type": "code",
   "execution_count": null,
   "metadata": {},
   "outputs": [],
   "source": []
  }
 ],
 "metadata": {
  "kernelspec": {
   "display_name": "Python 3 (ipykernel)",
   "language": "python",
   "name": "python3"
  },
  "language_info": {
   "codemirror_mode": {
    "name": "ipython",
    "version": 3
   },
   "file_extension": ".py",
   "mimetype": "text/x-python",
   "name": "python",
   "nbconvert_exporter": "python",
   "pygments_lexer": "ipython3",
   "version": "3.9.7"
  }
 },
 "nbformat": 4,
 "nbformat_minor": 2
}
