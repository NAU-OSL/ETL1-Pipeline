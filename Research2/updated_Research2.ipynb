{
 "cells": [
  {
   "cell_type": "code",
   "execution_count": 1,
   "metadata": {},
   "outputs": [],
   "source": [
    "import pandas as pd\n"
   ]
  },
  {
   "cell_type": "code",
   "execution_count": 2,
   "metadata": {},
   "outputs": [],
   "source": [
    "inputToRead = \"/home/j/git/OSL/ETL1-Pipeline/data/inputs/new/mockito_full/mockito_full_commit_output.csv\""
   ]
  },
  {
   "cell_type": "code",
   "execution_count": 3,
   "metadata": {},
   "outputs": [],
   "source": [
    "fileNameOutput = \"/home/j/git/OSL/ETL1-Pipeline/data/outputs/new/mockito/dataframe_file_names.csv\"\n"
   ]
  },
  {
   "cell_type": "code",
   "execution_count": 4,
   "metadata": {},
   "outputs": [],
   "source": [
    "PR3_csv = \"/home/j/git/OSL/ETL1-Pipeline/data/outputs/new/g/filesPR3BodyTitle2.csv\"\n"
   ]
  },
  {
   "cell_type": "code",
   "execution_count": 5,
   "metadata": {},
   "outputs": [],
   "source": [
    "PR3_txt = \"/home/j/git/OSL/ETL1-Pipeline/data/outputs/new/guava/filesPR3BodyTitle2.txt\"\n"
   ]
  },
  {
   "cell_type": "code",
   "execution_count": 6,
   "metadata": {},
   "outputs": [],
   "source": [
    "authorFilePath = pd.read_csv(inputToRead)\n"
   ]
  },
  {
   "cell_type": "code",
   "execution_count": 7,
   "metadata": {},
   "outputs": [
    {
     "data": {
      "text/html": [
       "<div>\n",
       "<style scoped>\n",
       "    .dataframe tbody tr th:only-of-type {\n",
       "        vertical-align: middle;\n",
       "    }\n",
       "\n",
       "    .dataframe tbody tr th {\n",
       "        vertical-align: top;\n",
       "    }\n",
       "\n",
       "    .dataframe thead th {\n",
       "        text-align: right;\n",
       "    }\n",
       "</style>\n",
       "<table border=\"1\" class=\"dataframe\">\n",
       "  <thead>\n",
       "    <tr style=\"text-align: right;\">\n",
       "      <th></th>\n",
       "      <th>Issue_Num</th>\n",
       "      <th>Author_Login</th>\n",
       "      <th>File_Name</th>\n",
       "      <th>Patch_Text</th>\n",
       "      <th>Commit_Message</th>\n",
       "      <th>Commit_Title</th>\n",
       "    </tr>\n",
       "  </thead>\n",
       "  <tbody>\n",
       "    <tr>\n",
       "      <th>0</th>\n",
       "      <td>2942</td>\n",
       "      <td>Ron Shapiro</td>\n",
       "      <td>['guava-gwt/test/com/google/common/collect/Str...</td>\n",
       "      <td>@@ -93,11 +93,41 @@ public void testMapWithInd...</td>\n",
       "      <td>NaN</td>\n",
       "      <td>Moe sync</td>\n",
       "    </tr>\n",
       "    <tr>\n",
       "      <th>1</th>\n",
       "      <td>3050</td>\n",
       "      <td>Ron Shapiro</td>\n",
       "      <td>['guava-tests/test/com/google/common/collect/I...</td>\n",
       "      <td>@@ -712,7 +712,7 @@ void zero() {\\n       Immu...</td>\n",
       "      <td>This code has been reviewed and submitted inte...</td>\n",
       "      <td>Moe Sync</td>\n",
       "    </tr>\n",
       "    <tr>\n",
       "      <th>2</th>\n",
       "      <td>3056</td>\n",
       "      <td>Ron Shapiro</td>\n",
       "      <td>['android/guava-tests/test/com/google/common/r...</td>\n",
       "      <td>@@ -87,6 +87,15 @@ public void testSubtypeOfNo...</td>\n",
       "      <td>This code has been reviewed and submitted inte...</td>\n",
       "      <td>Moe Sync</td>\n",
       "    </tr>\n",
       "    <tr>\n",
       "      <th>3</th>\n",
       "      <td>3057</td>\n",
       "      <td>Ron Shapiro</td>\n",
       "      <td>['android/guava/src/com/google/thirdparty/publ...</td>\n",
       "      <td>@@ -23,7 +23,6 @@\\n /** Parser for a map of re...</td>\n",
       "      <td>This code has been reviewed and submitted inte...</td>\n",
       "      <td>Moe Sync</td>\n",
       "    </tr>\n",
       "    <tr>\n",
       "      <th>4</th>\n",
       "      <td>3070</td>\n",
       "      <td>Ron Shapiro</td>\n",
       "      <td>['android/guava/src/com/google/common/net/Http...</td>\n",
       "      <td>@@ -349,6 +349,17 @@ private ReferrerPolicyVal...</td>\n",
       "      <td>This code has been reviewed and submitted inte...</td>\n",
       "      <td>Moe Sync</td>\n",
       "    </tr>\n",
       "  </tbody>\n",
       "</table>\n",
       "</div>"
      ],
      "text/plain": [
       "   Issue_Num Author_Login                                          File_Name  \\\n",
       "0       2942  Ron Shapiro  ['guava-gwt/test/com/google/common/collect/Str...   \n",
       "1       3050  Ron Shapiro  ['guava-tests/test/com/google/common/collect/I...   \n",
       "2       3056  Ron Shapiro  ['android/guava-tests/test/com/google/common/r...   \n",
       "3       3057  Ron Shapiro  ['android/guava/src/com/google/thirdparty/publ...   \n",
       "4       3070  Ron Shapiro  ['android/guava/src/com/google/common/net/Http...   \n",
       "\n",
       "                                          Patch_Text  \\\n",
       "0  @@ -93,11 +93,41 @@ public void testMapWithInd...   \n",
       "1  @@ -712,7 +712,7 @@ void zero() {\\n       Immu...   \n",
       "2  @@ -87,6 +87,15 @@ public void testSubtypeOfNo...   \n",
       "3  @@ -23,7 +23,6 @@\\n /** Parser for a map of re...   \n",
       "4  @@ -349,6 +349,17 @@ private ReferrerPolicyVal...   \n",
       "\n",
       "                                      Commit_Message Commit_Title  \n",
       "0                                                NaN     Moe sync  \n",
       "1  This code has been reviewed and submitted inte...     Moe Sync  \n",
       "2  This code has been reviewed and submitted inte...     Moe Sync  \n",
       "3  This code has been reviewed and submitted inte...     Moe Sync  \n",
       "4  This code has been reviewed and submitted inte...     Moe Sync  "
      ]
     },
     "execution_count": 7,
     "metadata": {},
     "output_type": "execute_result"
    }
   ],
   "source": [
    "authorFilePath.head()"
   ]
  },
  {
   "cell_type": "code",
   "execution_count": 8,
   "metadata": {},
   "outputs": [
    {
     "data": {
      "text/plain": [
       "(310, 6)"
      ]
     },
     "execution_count": 8,
     "metadata": {},
     "output_type": "execute_result"
    }
   ],
   "source": [
    "authorFilePath.shape\n"
   ]
  },
  {
   "cell_type": "code",
   "execution_count": 9,
   "metadata": {},
   "outputs": [
    {
     "data": {
      "text/plain": [
       "RangeIndex(start=0, stop=310, step=1)"
      ]
     },
     "execution_count": 9,
     "metadata": {},
     "output_type": "execute_result"
    }
   ],
   "source": [
    "authorFilePath.index\n"
   ]
  },
  {
   "cell_type": "code",
   "execution_count": 10,
   "metadata": {},
   "outputs": [
    {
     "data": {
      "text/plain": [
       "Index(['Issue_Num', 'Author_Login', 'File_Name', 'Patch_Text',\n",
       "       'Commit_Message', 'Commit_Title'],\n",
       "      dtype='object')"
      ]
     },
     "execution_count": 10,
     "metadata": {},
     "output_type": "execute_result"
    }
   ],
   "source": [
    "authorFilePath.columns\n"
   ]
  },
  {
   "cell_type": "code",
   "execution_count": 11,
   "metadata": {},
   "outputs": [
    {
     "data": {
      "text/plain": [
       "Issue_Num          int64\n",
       "Author_Login      object\n",
       "File_Name         object\n",
       "Patch_Text        object\n",
       "Commit_Message    object\n",
       "Commit_Title      object\n",
       "dtype: object"
      ]
     },
     "execution_count": 11,
     "metadata": {},
     "output_type": "execute_result"
    }
   ],
   "source": [
    "authorFilePath.dtypes\n"
   ]
  },
  {
   "cell_type": "code",
   "execution_count": 12,
   "metadata": {},
   "outputs": [],
   "source": [
    "authorFilePath2 = authorFilePath.copy()\n"
   ]
  },
  {
   "cell_type": "code",
   "execution_count": 13,
   "metadata": {},
   "outputs": [
    {
     "data": {
      "text/plain": [
       "Index(['Issue_Num', 'Author_Login', 'File_Name', 'Patch_Text',\n",
       "       'Commit_Message', 'Commit_Title'],\n",
       "      dtype='object')"
      ]
     },
     "execution_count": 13,
     "metadata": {},
     "output_type": "execute_result"
    }
   ],
   "source": [
    "authorFilePath2.columns\n"
   ]
  },
  {
   "cell_type": "code",
   "execution_count": 14,
   "metadata": {},
   "outputs": [
    {
     "data": {
      "text/plain": [
       "0     ['guava-gwt/test/com/google/common/collect/Str...\n",
       "1     ['guava-tests/test/com/google/common/collect/I...\n",
       "2     ['android/guava-tests/test/com/google/common/r...\n",
       "3     ['android/guava/src/com/google/thirdparty/publ...\n",
       "4     ['android/guava/src/com/google/common/net/Http...\n",
       "5     ['android/guava/src/com/google/common/base/Asc...\n",
       "6     ['android/guava/src/com/google/common/reflect/...\n",
       "7     ['android/guava-tests/test/com/google/common/i...\n",
       "8     ['android/guava-tests/test/com/google/common/i...\n",
       "9     ['android/guava-tests/test/com/google/common/b...\n",
       "10    ['guava-tests/test/com/google/common/cache/Loc...\n",
       "11                                        ['README.md']\n",
       "12    ['guava-gwt/src-super/java/util/super/java/uti...\n",
       "13    ['android/guava/src/com/google/thirdparty/publ...\n",
       "14    ['android/guava/src/com/google/common/hash/Lit...\n",
       "15    ['android/guava-tests/test/com/google/common/u...\n",
       "16                                        ['README.md']\n",
       "17    ['android/guava/src/com/google/common/util/con...\n",
       "18    ['android/guava/src/com/google/common/collect/...\n",
       "19    ['android/guava/src/com/google/common/collect/...\n",
       "20                       ['android/pom.xml', 'pom.xml']\n",
       "21           ['android/guava/pom.xml', 'guava/pom.xml']\n",
       "22    ['android/guava-testlib/src/com/google/common/...\n",
       "23    ['android/guava/src/com/google/common/util/con...\n",
       "24    ['android/guava/src/com/google/thirdparty/publ...\n",
       "25    ['android/guava/src/com/google/common/base/Abs...\n",
       "26    ['android/guava-tests/test/com/google/common/b...\n",
       "27    ['android/guava-tests/benchmark/com/google/com...\n",
       "28                                        ['README.md']\n",
       "29    ['guava-gwt/test/com/google/common/collect/Str...\n",
       "30    ['guava-tests/test/com/google/common/cache/Loc...\n",
       "Name: File_Name, dtype: object"
      ]
     },
     "execution_count": 14,
     "metadata": {},
     "output_type": "execute_result"
    }
   ],
   "source": [
    "authorFilePath2.loc[0:30,\"File_Name\"]"
   ]
  },
  {
   "cell_type": "code",
   "execution_count": 15,
   "metadata": {},
   "outputs": [
    {
     "name": "stderr",
     "output_type": "stream",
     "text": [
      "<ipython-input-15-65246afc4a69>:1: FutureWarning: The default value of regex will change from True to False in a future version. In addition, single character regular expressions will*not* be treated as literal strings when regex=True.\n",
      "  file_names_without_brackets = authorFilePath2.File_Name.str.replace(\"[\",\"\")\n"
     ]
    }
   ],
   "source": [
    "file_names_without_brackets = authorFilePath2.File_Name.str.replace(\"[\",\"\")"
   ]
  },
  {
   "cell_type": "code",
   "execution_count": 16,
   "metadata": {},
   "outputs": [],
   "source": [
    "file_names_without_quotes = file_names_without_brackets.str.replace(\"\\'\",\"\")"
   ]
  },
  {
   "cell_type": "code",
   "execution_count": 17,
   "metadata": {},
   "outputs": [
    {
     "data": {
      "text/plain": [
       "pandas.core.series.Series"
      ]
     },
     "execution_count": 17,
     "metadata": {},
     "output_type": "execute_result"
    }
   ],
   "source": [
    "type(file_names_without_brackets)"
   ]
  },
  {
   "cell_type": "code",
   "execution_count": 18,
   "metadata": {},
   "outputs": [
    {
     "name": "stderr",
     "output_type": "stream",
     "text": [
      "<ipython-input-18-e8b1f573ce8b>:1: FutureWarning: The default value of regex will change from True to False in a future version. In addition, single character regular expressions will*not* be treated as literal strings when regex=True.\n",
      "  file_names_without_brackets2 = file_names_without_quotes.str.replace(\"]\",\"\")\n"
     ]
    }
   ],
   "source": [
    "file_names_without_brackets2 = file_names_without_quotes.str.replace(\"]\",\"\")"
   ]
  },
  {
   "cell_type": "code",
   "execution_count": 19,
   "metadata": {},
   "outputs": [
    {
     "data": {
      "text/plain": [
       "0    guava-gwt/test/com/google/common/collect/Strea...\n",
       "1    guava-tests/test/com/google/common/collect/Imm...\n",
       "2    android/guava-tests/test/com/google/common/ref...\n",
       "3    android/guava/src/com/google/thirdparty/public...\n",
       "4    android/guava/src/com/google/common/net/HttpHe...\n",
       "Name: File_Name, dtype: object"
      ]
     },
     "execution_count": 19,
     "metadata": {},
     "output_type": "execute_result"
    }
   ],
   "source": [
    "file_names_without_brackets2.head()"
   ]
  },
  {
   "cell_type": "code",
   "execution_count": 20,
   "metadata": {},
   "outputs": [],
   "source": [
    "authorFilePath[\"files\"] = file_names_without_brackets2"
   ]
  },
  {
   "cell_type": "code",
   "execution_count": 21,
   "metadata": {},
   "outputs": [],
   "source": [
    "dataframe_file_names = authorFilePath.files.str.split(\",\", expand=True)"
   ]
  },
  {
   "cell_type": "code",
   "execution_count": 22,
   "metadata": {},
   "outputs": [],
   "source": [
    "dataframe_file_names[\"pr\"] = authorFilePath[\"Issue_Num\"]"
   ]
  },
  {
   "cell_type": "code",
   "execution_count": 23,
   "metadata": {},
   "outputs": [
    {
     "data": {
      "text/plain": [
       "0    2942\n",
       "1    3050\n",
       "2    3056\n",
       "3    3057\n",
       "4    3070\n",
       "Name: pr, dtype: int64"
      ]
     },
     "execution_count": 23,
     "metadata": {},
     "output_type": "execute_result"
    }
   ],
   "source": [
    "dataframe_file_names[\"pr\"].head()"
   ]
  },
  {
   "cell_type": "code",
   "execution_count": 24,
   "metadata": {},
   "outputs": [],
   "source": [
    "dataframe_file_names[\"title\"] = authorFilePath[\"Commit_Title\"]"
   ]
  },
  {
   "cell_type": "code",
   "execution_count": 25,
   "metadata": {},
   "outputs": [
    {
     "data": {
      "text/plain": [
       "0    Moe sync\n",
       "1    Moe Sync\n",
       "2    Moe Sync\n",
       "3    Moe Sync\n",
       "4    Moe Sync\n",
       "Name: title, dtype: object"
      ]
     },
     "execution_count": 25,
     "metadata": {},
     "output_type": "execute_result"
    }
   ],
   "source": [
    "dataframe_file_names[\"title\"].head()"
   ]
  },
  {
   "cell_type": "code",
   "execution_count": 26,
   "metadata": {},
   "outputs": [],
   "source": [
    "dataframe_file_names[\"body\"] = authorFilePath[\"Commit_Message\"] "
   ]
  },
  {
   "cell_type": "code",
   "execution_count": 27,
   "metadata": {},
   "outputs": [
    {
     "data": {
      "text/plain": [
       "0                                                  NaN\n",
       "1    This code has been reviewed and submitted inte...\n",
       "2    This code has been reviewed and submitted inte...\n",
       "3    This code has been reviewed and submitted inte...\n",
       "4    This code has been reviewed and submitted inte...\n",
       "Name: body, dtype: object"
      ]
     },
     "execution_count": 27,
     "metadata": {},
     "output_type": "execute_result"
    }
   ],
   "source": [
    "dataframe_file_names[\"body\"].head()"
   ]
  },
  {
   "cell_type": "code",
   "execution_count": 28,
   "metadata": {},
   "outputs": [
    {
     "data": {
      "text/html": [
       "<div>\n",
       "<style scoped>\n",
       "    .dataframe tbody tr th:only-of-type {\n",
       "        vertical-align: middle;\n",
       "    }\n",
       "\n",
       "    .dataframe tbody tr th {\n",
       "        vertical-align: top;\n",
       "    }\n",
       "\n",
       "    .dataframe thead th {\n",
       "        text-align: right;\n",
       "    }\n",
       "</style>\n",
       "<table border=\"1\" class=\"dataframe\">\n",
       "  <thead>\n",
       "    <tr style=\"text-align: right;\">\n",
       "      <th></th>\n",
       "      <th>0</th>\n",
       "      <th>1</th>\n",
       "      <th>2</th>\n",
       "      <th>3</th>\n",
       "      <th>4</th>\n",
       "      <th>5</th>\n",
       "      <th>6</th>\n",
       "      <th>7</th>\n",
       "      <th>8</th>\n",
       "      <th>9</th>\n",
       "      <th>...</th>\n",
       "      <th>293</th>\n",
       "      <th>294</th>\n",
       "      <th>295</th>\n",
       "      <th>296</th>\n",
       "      <th>297</th>\n",
       "      <th>298</th>\n",
       "      <th>299</th>\n",
       "      <th>pr</th>\n",
       "      <th>title</th>\n",
       "      <th>body</th>\n",
       "    </tr>\n",
       "  </thead>\n",
       "  <tbody>\n",
       "    <tr>\n",
       "      <th>0</th>\n",
       "      <td>guava-gwt/test/com/google/common/collect/Strea...</td>\n",
       "      <td>guava-tests/test/com/google/common/collect/St...</td>\n",
       "      <td>guava/src/com/google/common/collect/Streams.java</td>\n",
       "      <td>None</td>\n",
       "      <td>None</td>\n",
       "      <td>None</td>\n",
       "      <td>None</td>\n",
       "      <td>None</td>\n",
       "      <td>None</td>\n",
       "      <td>None</td>\n",
       "      <td>...</td>\n",
       "      <td>None</td>\n",
       "      <td>None</td>\n",
       "      <td>None</td>\n",
       "      <td>None</td>\n",
       "      <td>None</td>\n",
       "      <td>None</td>\n",
       "      <td>None</td>\n",
       "      <td>2942</td>\n",
       "      <td>Moe sync</td>\n",
       "      <td>NaN</td>\n",
       "    </tr>\n",
       "    <tr>\n",
       "      <th>1</th>\n",
       "      <td>guava-tests/test/com/google/common/collect/Imm...</td>\n",
       "      <td>None</td>\n",
       "      <td>None</td>\n",
       "      <td>None</td>\n",
       "      <td>None</td>\n",
       "      <td>None</td>\n",
       "      <td>None</td>\n",
       "      <td>None</td>\n",
       "      <td>None</td>\n",
       "      <td>None</td>\n",
       "      <td>...</td>\n",
       "      <td>None</td>\n",
       "      <td>None</td>\n",
       "      <td>None</td>\n",
       "      <td>None</td>\n",
       "      <td>None</td>\n",
       "      <td>None</td>\n",
       "      <td>None</td>\n",
       "      <td>3050</td>\n",
       "      <td>Moe Sync</td>\n",
       "      <td>This code has been reviewed and submitted inte...</td>\n",
       "    </tr>\n",
       "    <tr>\n",
       "      <th>2</th>\n",
       "      <td>android/guava-tests/test/com/google/common/ref...</td>\n",
       "      <td>android/guava/src/com/google/common/reflect/T...</td>\n",
       "      <td>guava-tests/test/com/google/common/reflect/Ty...</td>\n",
       "      <td>guava/src/com/google/common/reflect/TypeToken...</td>\n",
       "      <td>None</td>\n",
       "      <td>None</td>\n",
       "      <td>None</td>\n",
       "      <td>None</td>\n",
       "      <td>None</td>\n",
       "      <td>None</td>\n",
       "      <td>...</td>\n",
       "      <td>None</td>\n",
       "      <td>None</td>\n",
       "      <td>None</td>\n",
       "      <td>None</td>\n",
       "      <td>None</td>\n",
       "      <td>None</td>\n",
       "      <td>None</td>\n",
       "      <td>3056</td>\n",
       "      <td>Moe Sync</td>\n",
       "      <td>This code has been reviewed and submitted inte...</td>\n",
       "    </tr>\n",
       "    <tr>\n",
       "      <th>3</th>\n",
       "      <td>android/guava/src/com/google/thirdparty/public...</td>\n",
       "      <td>guava/src/com/google/thirdparty/publicsuffix/...</td>\n",
       "      <td>None</td>\n",
       "      <td>None</td>\n",
       "      <td>None</td>\n",
       "      <td>None</td>\n",
       "      <td>None</td>\n",
       "      <td>None</td>\n",
       "      <td>None</td>\n",
       "      <td>None</td>\n",
       "      <td>...</td>\n",
       "      <td>None</td>\n",
       "      <td>None</td>\n",
       "      <td>None</td>\n",
       "      <td>None</td>\n",
       "      <td>None</td>\n",
       "      <td>None</td>\n",
       "      <td>None</td>\n",
       "      <td>3057</td>\n",
       "      <td>Moe Sync</td>\n",
       "      <td>This code has been reviewed and submitted inte...</td>\n",
       "    </tr>\n",
       "    <tr>\n",
       "      <th>4</th>\n",
       "      <td>android/guava/src/com/google/common/net/HttpHe...</td>\n",
       "      <td>guava/src/com/google/common/net/HttpHeaders.java</td>\n",
       "      <td>None</td>\n",
       "      <td>None</td>\n",
       "      <td>None</td>\n",
       "      <td>None</td>\n",
       "      <td>None</td>\n",
       "      <td>None</td>\n",
       "      <td>None</td>\n",
       "      <td>None</td>\n",
       "      <td>...</td>\n",
       "      <td>None</td>\n",
       "      <td>None</td>\n",
       "      <td>None</td>\n",
       "      <td>None</td>\n",
       "      <td>None</td>\n",
       "      <td>None</td>\n",
       "      <td>None</td>\n",
       "      <td>3070</td>\n",
       "      <td>Moe Sync</td>\n",
       "      <td>This code has been reviewed and submitted inte...</td>\n",
       "    </tr>\n",
       "  </tbody>\n",
       "</table>\n",
       "<p>5 rows × 303 columns</p>\n",
       "</div>"
      ],
      "text/plain": [
       "                                                   0  \\\n",
       "0  guava-gwt/test/com/google/common/collect/Strea...   \n",
       "1  guava-tests/test/com/google/common/collect/Imm...   \n",
       "2  android/guava-tests/test/com/google/common/ref...   \n",
       "3  android/guava/src/com/google/thirdparty/public...   \n",
       "4  android/guava/src/com/google/common/net/HttpHe...   \n",
       "\n",
       "                                                   1  \\\n",
       "0   guava-tests/test/com/google/common/collect/St...   \n",
       "1                                               None   \n",
       "2   android/guava/src/com/google/common/reflect/T...   \n",
       "3   guava/src/com/google/thirdparty/publicsuffix/...   \n",
       "4   guava/src/com/google/common/net/HttpHeaders.java   \n",
       "\n",
       "                                                   2  \\\n",
       "0   guava/src/com/google/common/collect/Streams.java   \n",
       "1                                               None   \n",
       "2   guava-tests/test/com/google/common/reflect/Ty...   \n",
       "3                                               None   \n",
       "4                                               None   \n",
       "\n",
       "                                                   3     4     5     6     7  \\\n",
       "0                                               None  None  None  None  None   \n",
       "1                                               None  None  None  None  None   \n",
       "2   guava/src/com/google/common/reflect/TypeToken...  None  None  None  None   \n",
       "3                                               None  None  None  None  None   \n",
       "4                                               None  None  None  None  None   \n",
       "\n",
       "      8     9  ...   293   294   295   296   297   298   299    pr     title  \\\n",
       "0  None  None  ...  None  None  None  None  None  None  None  2942  Moe sync   \n",
       "1  None  None  ...  None  None  None  None  None  None  None  3050  Moe Sync   \n",
       "2  None  None  ...  None  None  None  None  None  None  None  3056  Moe Sync   \n",
       "3  None  None  ...  None  None  None  None  None  None  None  3057  Moe Sync   \n",
       "4  None  None  ...  None  None  None  None  None  None  None  3070  Moe Sync   \n",
       "\n",
       "                                                body  \n",
       "0                                                NaN  \n",
       "1  This code has been reviewed and submitted inte...  \n",
       "2  This code has been reviewed and submitted inte...  \n",
       "3  This code has been reviewed and submitted inte...  \n",
       "4  This code has been reviewed and submitted inte...  \n",
       "\n",
       "[5 rows x 303 columns]"
      ]
     },
     "execution_count": 28,
     "metadata": {},
     "output_type": "execute_result"
    }
   ],
   "source": [
    "dataframe_file_names.head()"
   ]
  },
  {
   "cell_type": "code",
   "execution_count": 29,
   "metadata": {},
   "outputs": [],
   "source": [
    "dataframe_file_names.to_csv( fileNameOutput, encoding='utf-8', index=False)\n",
    "            "
   ]
  },
  {
   "cell_type": "code",
   "execution_count": 30,
   "metadata": {},
   "outputs": [],
   "source": [
    "files_list2 = []\n",
    "def filter_java2(lines):\n",
    " \n",
    "    for i, v in lines.items():\n",
    "        pr = lines[\"pr\"]\n",
    "        print(\"Lines:\",i, lines[\"pr\"])\n",
    "        if v is not None:\n",
    "            if type(v) == str:\n",
    "        \n",
    "                if (v.find('.java') != -1): \n",
    "                    print(\"java:\",v)\n",
    "                    dict1 = {}\n",
    "                    # get input row in dictionary format\n",
    "                    # key = col_name\n",
    "                    d = {pr:v}\n",
    "                    dict1.update(d) \n",
    "\n",
    "                    files_list2.append(dict1)\n",
    "                else:\n",
    "                    print(\"not a java file:\",v, \"idx\", i)\n",
    "            else:\n",
    "                print(\"not a String:\", v, \"idx\", i)\n",
    "        else:\n",
    "            print(\"None:\", v, \"idx\", i)\n",
    "    df_fn_filtered = pd.DataFrame(files_list)\n",
    "\n",
    "        \n",
    "        "
   ]
  },
  {
   "cell_type": "code",
   "execution_count": 31,
   "metadata": {},
   "outputs": [],
   "source": [
    "#dataframe_file_names.apply(filter_java2, axis=1)"
   ]
  },
  {
   "cell_type": "code",
   "execution_count": 32,
   "metadata": {},
   "outputs": [],
   "source": [
    "files_list = []\n",
    "def filter_java0(lines):\n",
    " \n",
    "    for i, v in lines.items():\n",
    "        #pr = lines[\"pr\"]\n",
    "        #print(\"Lines:\",i, lines[\"pr\"])\n",
    "        if v is not None:\n",
    "            if type(v) == str:\n",
    "        \n",
    "                if (v.find('.java') != -1): \n",
    "                    print(\"java:\",v)\n",
    "                    dict1 = {}\n",
    "                    # get input row in dictionary format\n",
    "                    # key = col_name\n",
    "                    d = {i:v}\n",
    "                    dict1.update(d) \n",
    "\n",
    "                    files_list.append(dict1)\n",
    "                else:\n",
    "                    print(\"not a java file:\",v, \"idx\", i)\n",
    "            else:\n",
    "                print(\"not a String:\", v, \"idx\", i)\n",
    "        else:\n",
    "            print(\"None:\", v, \"idx\", i)"
   ]
  },
  {
   "cell_type": "code",
   "execution_count": 33,
   "metadata": {},
   "outputs": [
    {
     "data": {
      "text/plain": [
       "0        guava-gwt/test/com/google/common/collect/Strea...\n",
       "1         guava-tests/test/com/google/common/collect/St...\n",
       "2         guava/src/com/google/common/collect/Streams.java\n",
       "3                                                     None\n",
       "4                                                     None\n",
       "                               ...                        \n",
       "298                                                   None\n",
       "299                                                   None\n",
       "pr                                                    2942\n",
       "title                                             Moe sync\n",
       "body                                                   NaN\n",
       "Name: 0, Length: 303, dtype: object"
      ]
     },
     "execution_count": 33,
     "metadata": {},
     "output_type": "execute_result"
    }
   ],
   "source": [
    "dataframe_file_names.loc[0,:]    "
   ]
  },
  {
   "cell_type": "code",
   "execution_count": 34,
   "metadata": {},
   "outputs": [
    {
     "data": {
      "text/plain": [
       "pandas.core.frame.DataFrame"
      ]
     },
     "execution_count": 34,
     "metadata": {},
     "output_type": "execute_result"
    }
   ],
   "source": [
    "type(dataframe_file_names.loc[:,:])"
   ]
  },
  {
   "cell_type": "code",
   "execution_count": 35,
   "metadata": {},
   "outputs": [
    {
     "name": "stdout",
     "output_type": "stream",
     "text": [
      "0\n",
      "1\n",
      "2\n",
      "3\n",
      "4\n",
      "5\n",
      "6\n",
      "7\n",
      "8\n",
      "9\n",
      "10\n",
      "11\n",
      "12\n",
      "13\n",
      "14\n",
      "15\n",
      "16\n",
      "17\n",
      "18\n",
      "19\n",
      "20\n",
      "21\n",
      "22\n",
      "23\n",
      "24\n",
      "25\n",
      "26\n",
      "27\n",
      "28\n",
      "29\n",
      "30\n",
      "31\n",
      "32\n",
      "33\n",
      "34\n",
      "35\n",
      "36\n",
      "37\n",
      "38\n",
      "39\n",
      "40\n",
      "41\n",
      "42\n",
      "43\n",
      "44\n",
      "45\n",
      "46\n",
      "47\n",
      "48\n",
      "49\n",
      "50\n",
      "51\n",
      "52\n",
      "53\n",
      "54\n",
      "55\n",
      "56\n",
      "57\n",
      "58\n",
      "59\n",
      "60\n",
      "61\n",
      "62\n",
      "63\n",
      "64\n",
      "65\n",
      "66\n",
      "67\n",
      "68\n",
      "69\n",
      "70\n",
      "71\n",
      "72\n",
      "73\n",
      "74\n",
      "75\n",
      "76\n",
      "77\n",
      "78\n",
      "79\n",
      "80\n",
      "81\n",
      "82\n",
      "83\n",
      "84\n",
      "85\n",
      "86\n",
      "87\n",
      "88\n",
      "89\n",
      "90\n",
      "91\n",
      "92\n",
      "93\n",
      "94\n",
      "95\n",
      "96\n",
      "97\n",
      "98\n",
      "99\n",
      "100\n",
      "101\n",
      "102\n",
      "103\n",
      "104\n",
      "105\n",
      "106\n",
      "107\n",
      "108\n",
      "109\n",
      "110\n",
      "111\n",
      "112\n",
      "113\n",
      "114\n",
      "115\n",
      "116\n",
      "117\n",
      "118\n",
      "119\n",
      "120\n",
      "121\n",
      "122\n",
      "123\n",
      "124\n",
      "125\n",
      "126\n",
      "127\n",
      "128\n",
      "129\n",
      "130\n",
      "131\n",
      "132\n",
      "133\n",
      "134\n",
      "135\n",
      "136\n",
      "137\n",
      "138\n",
      "139\n",
      "140\n",
      "141\n",
      "142\n",
      "143\n",
      "144\n",
      "145\n",
      "146\n",
      "147\n",
      "148\n",
      "149\n",
      "150\n",
      "151\n",
      "152\n",
      "153\n",
      "154\n",
      "155\n",
      "156\n",
      "157\n",
      "158\n",
      "159\n",
      "160\n",
      "161\n",
      "162\n",
      "163\n",
      "164\n",
      "165\n",
      "166\n",
      "167\n",
      "168\n",
      "169\n",
      "170\n",
      "171\n",
      "172\n",
      "173\n",
      "174\n",
      "175\n",
      "176\n",
      "177\n",
      "178\n",
      "179\n",
      "180\n",
      "181\n",
      "182\n",
      "183\n",
      "184\n",
      "185\n",
      "186\n",
      "187\n",
      "188\n",
      "189\n",
      "190\n",
      "191\n",
      "192\n",
      "193\n",
      "194\n",
      "195\n",
      "196\n",
      "197\n",
      "198\n",
      "199\n",
      "200\n",
      "201\n",
      "202\n",
      "203\n",
      "204\n",
      "205\n",
      "206\n",
      "207\n",
      "208\n",
      "209\n",
      "210\n",
      "211\n",
      "212\n",
      "213\n",
      "214\n",
      "215\n",
      "216\n",
      "217\n",
      "218\n",
      "219\n",
      "220\n",
      "221\n",
      "222\n",
      "223\n",
      "224\n",
      "225\n",
      "226\n",
      "227\n",
      "228\n",
      "229\n",
      "230\n",
      "231\n",
      "232\n",
      "233\n",
      "234\n",
      "235\n",
      "236\n",
      "237\n",
      "238\n",
      "239\n",
      "240\n",
      "241\n",
      "242\n",
      "243\n",
      "244\n",
      "245\n",
      "246\n",
      "247\n",
      "248\n",
      "249\n",
      "250\n",
      "251\n",
      "252\n",
      "253\n",
      "254\n",
      "255\n",
      "256\n",
      "257\n",
      "258\n",
      "259\n",
      "260\n",
      "261\n",
      "262\n",
      "263\n",
      "264\n",
      "265\n",
      "266\n",
      "267\n",
      "268\n",
      "269\n",
      "270\n",
      "271\n",
      "272\n",
      "273\n",
      "274\n",
      "275\n",
      "276\n",
      "277\n",
      "278\n",
      "279\n",
      "280\n",
      "281\n",
      "282\n",
      "283\n",
      "284\n",
      "285\n",
      "286\n",
      "287\n",
      "288\n",
      "289\n",
      "290\n",
      "291\n",
      "292\n",
      "293\n",
      "294\n",
      "295\n",
      "296\n",
      "297\n",
      "298\n",
      "299\n",
      "pr\n",
      "title\n",
      "body\n"
     ]
    }
   ],
   "source": [
    "for row in dataframe_file_names:\n",
    "    print (row)\n",
    "    \n",
    "    "
   ]
  },
  {
   "cell_type": "code",
   "execution_count": 36,
   "metadata": {},
   "outputs": [],
   "source": [
    "files_list3 = []\n",
    "\n",
    "def filter_java3(lines):\n",
    " \n",
    "    for i, v in lines.items():\n",
    "        \n",
    "        pr = lines[\"pr\"]\n",
    "        \n",
    "        #v = lines[\"java\"]\n",
    "        \n",
    "        body = str(lines[\"body\"])\n",
    "        #type(body)\n",
    "        #print(body)\n",
    "        body = body.replace(\"\\n\", \" \")\n",
    "        body = body.replace(\"\\\"\", \" \")\n",
    "        body = body.replace(\"\\'\", \" \")\n",
    "        body = body.replace(\"`\", \" \")\n",
    "        body = body.replace(\";\", \" \")\n",
    "        body = body.replace(\",\", \" \")\n",
    "        \n",
    "        title = lines[\"title\"]\n",
    "        title = title.replace(\"\\n\", \" \")\n",
    "        title = title.replace(\"\\\"\", \" \")\n",
    "        title = title.replace(\"\\'\", \" \")\n",
    "        title = title.replace(\"`\", \" \")\n",
    "        title = title.replace(\";\", \" \")\n",
    "        title = title.replace(\",\", \" \")\n",
    "        #print(\"Lines:\",i, lines[\"pr\"])\n",
    "        if v is not None:\n",
    "            if type(v) == str:\n",
    "                if i == \"pr\" or i == \"body\" or i == \"title\":\n",
    "                    pass\n",
    "                else:\n",
    "                    if (v.find('.java') != -1): \n",
    "                        #print(\"write pr:\", pr,\" java:\",v)\n",
    "\n",
    "                        #dict1 = {}\n",
    "                        # get input row in dictionary format\n",
    "                        # key = col_name\n",
    "                        #d = {pr:v}\n",
    "                        #dict1.update(d) \n",
    "\n",
    "                        #files_list3.append(dict1)\n",
    "                        data = pr,\";\",v,\";\",title,\";\",body\n",
    "                        files_list3.append(data)\n",
    "                    #else:\n",
    "                        #print(\"not a java file:\",v, \" idx\", i)\n",
    "            #else:\n",
    "                #print(\"not a String:\", v, \" idx\", i)\n",
    "        #else:\n",
    "            #print(\"None:\", v, \" idx\", i)\n",
    "    "
   ]
  },
  {
   "cell_type": "code",
   "execution_count": null,
   "metadata": {},
   "outputs": [],
   "source": []
  },
  {
   "cell_type": "code",
   "execution_count": 37,
   "metadata": {},
   "outputs": [
    {
     "data": {
      "text/plain": [
       "0      None\n",
       "1      None\n",
       "2      None\n",
       "3      None\n",
       "4      None\n",
       "       ... \n",
       "305    None\n",
       "306    None\n",
       "307    None\n",
       "308    None\n",
       "309    None\n",
       "Length: 310, dtype: object"
      ]
     },
     "execution_count": 37,
     "metadata": {},
     "output_type": "execute_result"
    }
   ],
   "source": [
    "dataframe_file_names.apply(filter_java3, axis=1)"
   ]
  },
  {
   "cell_type": "code",
   "execution_count": 38,
   "metadata": {},
   "outputs": [],
   "source": [
    "df_fn_filtered3 = pd.DataFrame(files_list3)"
   ]
  },
  {
   "cell_type": "code",
   "execution_count": 39,
   "metadata": {},
   "outputs": [],
   "source": [
    "files_list3 = []"
   ]
  },
  {
   "cell_type": "code",
   "execution_count": 40,
   "metadata": {},
   "outputs": [],
   "source": [
    "pd.set_option('display.width', 30000)\n",
    "pd.set_option('display.max_columns', 1000)\n",
    "pd.set_option('display.max_colwidth', 1000)"
   ]
  },
  {
   "cell_type": "code",
   "execution_count": 41,
   "metadata": {},
   "outputs": [
    {
     "data": {
      "text/plain": [
       "0                                                                                                                                                                                                                                                                                                                                                                                                                                                                                                                                                                                                                                                                                                                                                                                                                                                                                                                                                                                                                                         nan\n",
       "1                                                                                                                                                                                                                                                                                                                                                                                                                                                                                                                                                                                                                                                                                                                                                                                                                                                                                                                                                                                                                                         nan\n",
       "2                                                                                                                                                                                                                                                                                                                                                                                                                                                                                                                                                                                                                                                                                                                                                                                                                                                                                                                                                                                                                                         nan\n",
       "3                                                                                                                                                                                                                                                                                                                                                                                                                                                                                                                                                                                                                                                                                                                                                                                                  This code has been reviewed and submitted internally. Feel free to discuss on the PR and we can submit follow-up changes as necessary.  Commits: ===== <p> Correct a typo in ImmutableBiMapTest.  2c5dd53d4a4830bf6cb3a50f26d3d73429932833\n",
       "4     This code has been reviewed and submitted internally. Feel free to discuss on the PR and we can submit follow-up changes as necessary.  Commits: ===== <p> Traverser.java: add support for multiple start nodes.  Update documentation (in this file and in graphs_explained.md) relating to behavior and definitions of equals() and hashCode().  RELNOTES= common.graph.Traverser : add support for traversing from multiple start nodes.  9dce1c3302ec118f73921c9319e7822114325a2d  -------  <p> Fix List<Foo<?>>.isSubtypeOf(List<Foo<?>>).  This used to return false because isSubtypeOf() does a wildcard capture of the Foo<?> type parameter  turning it into Foo<C>  and then List<Foo<C>> isn t a subtype of List<Foo<?>>.  Wildcard capture is needed for resolving types at invariant or contravariant elements (fields and parameters). But for resolving in covariant context  wildcard should remain as is.  I found this when trying to add isSubtypeOf() precondition check in getSubtype()  in response to https:...\n",
       "5     This code has been reviewed and submitted internally. Feel free to discuss on the PR and we can submit follow-up changes as necessary.  Commits: ===== <p> Traverser.java: add support for multiple start nodes.  Update documentation (in this file and in graphs_explained.md) relating to behavior and definitions of equals() and hashCode().  RELNOTES= common.graph.Traverser : add support for traversing from multiple start nodes.  9dce1c3302ec118f73921c9319e7822114325a2d  -------  <p> Fix List<Foo<?>>.isSubtypeOf(List<Foo<?>>).  This used to return false because isSubtypeOf() does a wildcard capture of the Foo<?> type parameter  turning it into Foo<C>  and then List<Foo<C>> isn t a subtype of List<Foo<?>>.  Wildcard capture is needed for resolving types at invariant or contravariant elements (fields and parameters). But for resolving in covariant context  wildcard should remain as is.  I found this when trying to add isSubtypeOf() precondition check in getSubtype()  in response to https:...\n",
       "6     This code has been reviewed and submitted internally. Feel free to discuss on the PR and we can submit follow-up changes as necessary.  Commits: ===== <p> Traverser.java: add support for multiple start nodes.  Update documentation (in this file and in graphs_explained.md) relating to behavior and definitions of equals() and hashCode().  RELNOTES= common.graph.Traverser : add support for traversing from multiple start nodes.  9dce1c3302ec118f73921c9319e7822114325a2d  -------  <p> Fix List<Foo<?>>.isSubtypeOf(List<Foo<?>>).  This used to return false because isSubtypeOf() does a wildcard capture of the Foo<?> type parameter  turning it into Foo<C>  and then List<Foo<C>> isn t a subtype of List<Foo<?>>.  Wildcard capture is needed for resolving types at invariant or contravariant elements (fields and parameters). But for resolving in covariant context  wildcard should remain as is.  I found this when trying to add isSubtypeOf() precondition check in getSubtype()  in response to https:...\n",
       "7     This code has been reviewed and submitted internally. Feel free to discuss on the PR and we can submit follow-up changes as necessary.  Commits: ===== <p> Traverser.java: add support for multiple start nodes.  Update documentation (in this file and in graphs_explained.md) relating to behavior and definitions of equals() and hashCode().  RELNOTES= common.graph.Traverser : add support for traversing from multiple start nodes.  9dce1c3302ec118f73921c9319e7822114325a2d  -------  <p> Fix List<Foo<?>>.isSubtypeOf(List<Foo<?>>).  This used to return false because isSubtypeOf() does a wildcard capture of the Foo<?> type parameter  turning it into Foo<C>  and then List<Foo<C>> isn t a subtype of List<Foo<?>>.  Wildcard capture is needed for resolving types at invariant or contravariant elements (fields and parameters). But for resolving in covariant context  wildcard should remain as is.  I found this when trying to add isSubtypeOf() precondition check in getSubtype()  in response to https:...\n",
       "8     This code has been reviewed and submitted internally. Feel free to discuss on the PR and we can submit follow-up changes as necessary.  Commits: ===== <p> Change all instances of encoded.subSequence() to use a simple start index offset  which reduces the Java memory footprint for TrieParser by at at least 130 MBs. This is because the original call to subSequence() would generate a new String on the heap for each call  where as just using an offset avoids the need to generate a new String all together.  This memory enhancement was found while investigating flakiness issues for some tests which had the same root cause of: java.lang.OutOfMemoryError: GC overhead limit exceeded  mostly in the TrieParser class.  100-test runs at original code: Memory usage - maximum: 503MiB (527 769 600 bytes) - average: 388MiB (407 225 077 bytes)  100-test runs with my changes: Memory usage - maximum: 316MiB (325 271 552 bytes) - average: 221MiB (239 355 320 bytes)  At maximum: 187 MB saved At average:...\n",
       "9     This code has been reviewed and submitted internally. Feel free to discuss on the PR and we can submit follow-up changes as necessary.  Commits: ===== <p> Change all instances of encoded.subSequence() to use a simple start index offset  which reduces the Java memory footprint for TrieParser by at at least 130 MBs. This is because the original call to subSequence() would generate a new String on the heap for each call  where as just using an offset avoids the need to generate a new String all together.  This memory enhancement was found while investigating flakiness issues for some tests which had the same root cause of: java.lang.OutOfMemoryError: GC overhead limit exceeded  mostly in the TrieParser class.  100-test runs at original code: Memory usage - maximum: 503MiB (527 769 600 bytes) - average: 388MiB (407 225 077 bytes)  100-test runs with my changes: Memory usage - maximum: 316MiB (325 271 552 bytes) - average: 221MiB (239 355 320 bytes)  At maximum: 187 MB saved At average:...\n",
       "10                                                                                                                                                                                                                                                                                                                                                                                                                                                                                                                                                                                   This code has been reviewed and submitted internally. Feel free to discuss on the PR and we can submit follow-up changes as necessary.  Commits: ===== <p> Add X-Download-Options header (IE8 header to control the  Open  button on the download dialog).  RELNOTES=Defined an [X-Download-Options](https://blogs.msdn.microsoft.com/ieinternals/2009/06/30/internet-explorer-and-custom-http-headers) header  b3acfc69329e40befab52f50a5ee66e37ad9f602\n",
       "Name: 6, dtype: object"
      ]
     },
     "execution_count": 41,
     "metadata": {},
     "output_type": "execute_result"
    }
   ],
   "source": [
    "df_fn_filtered3.loc[0:10,6]\n"
   ]
  },
  {
   "cell_type": "code",
   "execution_count": 42,
   "metadata": {},
   "outputs": [],
   "source": [
    "#del df_fn_filtered3"
   ]
  },
  {
   "cell_type": "code",
   "execution_count": 43,
   "metadata": {},
   "outputs": [
    {
     "data": {
      "text/plain": [
       "0"
      ]
     },
     "execution_count": 43,
     "metadata": {},
     "output_type": "execute_result"
    }
   ],
   "source": [
    "import gc\n",
    "gc.collect()"
   ]
  },
  {
   "cell_type": "code",
   "execution_count": 44,
   "metadata": {},
   "outputs": [
    {
     "data": {
      "text/html": [
       "<div>\n",
       "<style scoped>\n",
       "    .dataframe tbody tr th:only-of-type {\n",
       "        vertical-align: middle;\n",
       "    }\n",
       "\n",
       "    .dataframe tbody tr th {\n",
       "        vertical-align: top;\n",
       "    }\n",
       "\n",
       "    .dataframe thead th {\n",
       "        text-align: right;\n",
       "    }\n",
       "</style>\n",
       "<table border=\"1\" class=\"dataframe\">\n",
       "  <thead>\n",
       "    <tr style=\"text-align: right;\">\n",
       "      <th></th>\n",
       "      <th>0</th>\n",
       "      <th>1</th>\n",
       "      <th>2</th>\n",
       "      <th>3</th>\n",
       "      <th>4</th>\n",
       "      <th>5</th>\n",
       "      <th>6</th>\n",
       "    </tr>\n",
       "  </thead>\n",
       "  <tbody>\n",
       "    <tr>\n",
       "      <th>0</th>\n",
       "      <td>2942</td>\n",
       "      <td>;</td>\n",
       "      <td>guava-gwt/test/com/google/common/collect/StreamsTest_gwt.java</td>\n",
       "      <td>;</td>\n",
       "      <td>Moe sync</td>\n",
       "      <td>;</td>\n",
       "      <td>nan</td>\n",
       "    </tr>\n",
       "    <tr>\n",
       "      <th>1</th>\n",
       "      <td>2942</td>\n",
       "      <td>;</td>\n",
       "      <td>guava-tests/test/com/google/common/collect/StreamsTest.java</td>\n",
       "      <td>;</td>\n",
       "      <td>Moe sync</td>\n",
       "      <td>;</td>\n",
       "      <td>nan</td>\n",
       "    </tr>\n",
       "    <tr>\n",
       "      <th>2</th>\n",
       "      <td>2942</td>\n",
       "      <td>;</td>\n",
       "      <td>guava/src/com/google/common/collect/Streams.java</td>\n",
       "      <td>;</td>\n",
       "      <td>Moe sync</td>\n",
       "      <td>;</td>\n",
       "      <td>nan</td>\n",
       "    </tr>\n",
       "    <tr>\n",
       "      <th>3</th>\n",
       "      <td>3050</td>\n",
       "      <td>;</td>\n",
       "      <td>guava-tests/test/com/google/common/collect/ImmutableBiMapTest.java</td>\n",
       "      <td>;</td>\n",
       "      <td>Moe Sync</td>\n",
       "      <td>;</td>\n",
       "      <td>This code has been reviewed and submitted internally. Feel free to discuss on the PR and we can submit follow-up changes as necessary.  Commits: ===== &lt;p&gt; Correct a typo in ImmutableBiMapTest.  2c5dd53d4a4830bf6cb3a50f26d3d73429932833</td>\n",
       "    </tr>\n",
       "    <tr>\n",
       "      <th>4</th>\n",
       "      <td>3056</td>\n",
       "      <td>;</td>\n",
       "      <td>android/guava-tests/test/com/google/common/reflect/TypeTokenSubtypeTest.java</td>\n",
       "      <td>;</td>\n",
       "      <td>Moe Sync</td>\n",
       "      <td>;</td>\n",
       "      <td>This code has been reviewed and submitted internally. Feel free to discuss on the PR and we can submit follow-up changes as necessary.  Commits: ===== &lt;p&gt; Traverser.java: add support for multiple start nodes.  Update documentation (in this file and in graphs_explained.md) relating to behavior and definitions of equals() and hashCode().  RELNOTES= common.graph.Traverser : add support for traversing from multiple start nodes.  9dce1c3302ec118f73921c9319e7822114325a2d  -------  &lt;p&gt; Fix List&lt;Foo&lt;?&gt;&gt;.isSubtypeOf(List&lt;Foo&lt;?&gt;&gt;).  This used to return false because isSubtypeOf() does a wildcard capture of the Foo&lt;?&gt; type parameter  turning it into Foo&lt;C&gt;  and then List&lt;Foo&lt;C&gt;&gt; isn t a subtype of List&lt;Foo&lt;?&gt;&gt;.  Wildcard capture is needed for resolving types at invariant or contravariant elements (fields and parameters). But for resolving in covariant context  wildcard should remain as is.  I found this when trying to add isSubtypeOf() precondition check in getSubtype()  in response to https:...</td>\n",
       "    </tr>\n",
       "  </tbody>\n",
       "</table>\n",
       "</div>"
      ],
      "text/plain": [
       "      0  1                                                                             2  3         4  5                                                                                                                                                                                                                                                                                                                                                                                                                                                                                                                                                                                                                                                                                                                                                                                                                                                                                                                                                                                                                                        6\n",
       "0  2942  ;                 guava-gwt/test/com/google/common/collect/StreamsTest_gwt.java  ;  Moe sync  ;                                                                                                                                                                                                                                                                                                                                                                                                                                                                                                                                                                                                                                                                                                                                                                                                                                                                                                                                                                                                                                      nan\n",
       "1  2942  ;                   guava-tests/test/com/google/common/collect/StreamsTest.java  ;  Moe sync  ;                                                                                                                                                                                                                                                                                                                                                                                                                                                                                                                                                                                                                                                                                                                                                                                                                                                                                                                                                                                                                                      nan\n",
       "2  2942  ;                              guava/src/com/google/common/collect/Streams.java  ;  Moe sync  ;                                                                                                                                                                                                                                                                                                                                                                                                                                                                                                                                                                                                                                                                                                                                                                                                                                                                                                                                                                                                                                      nan\n",
       "3  3050  ;            guava-tests/test/com/google/common/collect/ImmutableBiMapTest.java  ;  Moe Sync  ;                                                                                                                                                                                                                                                                                                                                                                                                                                                                                                                                                                                                                                                                                                                                                                                               This code has been reviewed and submitted internally. Feel free to discuss on the PR and we can submit follow-up changes as necessary.  Commits: ===== <p> Correct a typo in ImmutableBiMapTest.  2c5dd53d4a4830bf6cb3a50f26d3d73429932833\n",
       "4  3056  ;  android/guava-tests/test/com/google/common/reflect/TypeTokenSubtypeTest.java  ;  Moe Sync  ;  This code has been reviewed and submitted internally. Feel free to discuss on the PR and we can submit follow-up changes as necessary.  Commits: ===== <p> Traverser.java: add support for multiple start nodes.  Update documentation (in this file and in graphs_explained.md) relating to behavior and definitions of equals() and hashCode().  RELNOTES= common.graph.Traverser : add support for traversing from multiple start nodes.  9dce1c3302ec118f73921c9319e7822114325a2d  -------  <p> Fix List<Foo<?>>.isSubtypeOf(List<Foo<?>>).  This used to return false because isSubtypeOf() does a wildcard capture of the Foo<?> type parameter  turning it into Foo<C>  and then List<Foo<C>> isn t a subtype of List<Foo<?>>.  Wildcard capture is needed for resolving types at invariant or contravariant elements (fields and parameters). But for resolving in covariant context  wildcard should remain as is.  I found this when trying to add isSubtypeOf() precondition check in getSubtype()  in response to https:..."
      ]
     },
     "execution_count": 44,
     "metadata": {},
     "output_type": "execute_result"
    }
   ],
   "source": [
    "df_fn_filtered3.head()"
   ]
  },
  {
   "cell_type": "code",
   "execution_count": 45,
   "metadata": {},
   "outputs": [],
   "source": [
    "df_fn_filtered3.to_csv( PR3_csv, encoding='utf-8', header=False, index=False, sep='\\t')"
   ]
  },
  {
   "cell_type": "code",
   "execution_count": 46,
   "metadata": {},
   "outputs": [],
   "source": [
    "import numpy as np\n",
    "np.savetxt( PR3_txt, df_fn_filtered3.values, fmt='%s', delimiter=' ')"
   ]
  },
  {
   "cell_type": "code",
   "execution_count": 47,
   "metadata": {},
   "outputs": [],
   "source": [
    "del df_fn_filtered3"
   ]
  },
  {
   "cell_type": "code",
   "execution_count": null,
   "metadata": {},
   "outputs": [],
   "source": []
  }
 ],
 "metadata": {
  "kernelspec": {
   "display_name": "Python 3",
   "language": "python",
   "name": "python3"
  },
  "language_info": {
   "codemirror_mode": {
    "name": "ipython",
    "version": 3
   },
   "file_extension": ".py",
   "mimetype": "text/x-python",
   "name": "python",
   "nbconvert_exporter": "python",
   "pygments_lexer": "ipython3",
   "version": "3.9.5"
  }
 },
 "nbformat": 4,
 "nbformat_minor": 2
}
