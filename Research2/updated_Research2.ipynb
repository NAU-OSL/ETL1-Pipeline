{
 "cells": [
  {
   "cell_type": "code",
   "execution_count": 1,
   "metadata": {},
   "outputs": [],
   "source": [
    "import pandas as pd\n"
   ]
  },
  {
   "cell_type": "code",
   "execution_count": 2,
   "metadata": {},
   "outputs": [],
   "source": [
    "inputToRead = \"/home/j/git/OSL/ETL1-Pipeline/data/inputs/new/rxjava_full/rxjava_full_commit_output.csv\""
   ]
  },
  {
   "cell_type": "code",
   "execution_count": 3,
   "metadata": {},
   "outputs": [],
   "source": [
    "fileNameOutput = \"/home/j/git/OSL/ETL1-Pipeline/data/outputs/new/rxjava/dataframe_file_names.csv\"\n"
   ]
  },
  {
   "cell_type": "code",
   "execution_count": 4,
   "metadata": {},
   "outputs": [],
   "source": [
    "PR3_csv = \"/home/j/git/OSL/ETL1-Pipeline/data/outputs/new/rxjava/filesPR3BodyTitle2.csv\"\n"
   ]
  },
  {
   "cell_type": "code",
   "execution_count": 5,
   "metadata": {},
   "outputs": [],
   "source": [
    "PR3_txt = \"/home/j/git/OSL/ETL1-Pipeline/data/outputs/new/rxjava/filesPR3BodyTitle2.txt\"\n"
   ]
  },
  {
   "cell_type": "code",
   "execution_count": 6,
   "metadata": {},
   "outputs": [],
   "source": [
    "authorFilePath = pd.read_csv(inputToRead)\n"
   ]
  },
  {
   "cell_type": "code",
   "execution_count": 7,
   "metadata": {},
   "outputs": [
    {
     "data": {
      "text/html": [
       "<div>\n",
       "<style scoped>\n",
       "    .dataframe tbody tr th:only-of-type {\n",
       "        vertical-align: middle;\n",
       "    }\n",
       "\n",
       "    .dataframe tbody tr th {\n",
       "        vertical-align: top;\n",
       "    }\n",
       "\n",
       "    .dataframe thead th {\n",
       "        text-align: right;\n",
       "    }\n",
       "</style>\n",
       "<table border=\"1\" class=\"dataframe\">\n",
       "  <thead>\n",
       "    <tr style=\"text-align: right;\">\n",
       "      <th></th>\n",
       "      <th>Issue_Num</th>\n",
       "      <th>Author_Login</th>\n",
       "      <th>File_Name</th>\n",
       "      <th>Patch_Text</th>\n",
       "      <th>Commit_Message</th>\n",
       "      <th>Commit_Title</th>\n",
       "    </tr>\n",
       "  </thead>\n",
       "  <tbody>\n",
       "    <tr>\n",
       "      <th>0</th>\n",
       "      <td>1</td>\n",
       "      <td>Ben Christensen</td>\n",
       "      <td>['rxjava-core/src/main/java/org/rx/operations/...</td>\n",
       "      <td>@@ -11,7 +11,7 @@\\n  * Thread-safe wrapper aro...</td>\n",
       "      <td>NaN</td>\n",
       "      <td>Refactoring conventions</td>\n",
       "    </tr>\n",
       "    <tr>\n",
       "      <th>1</th>\n",
       "      <td>2</td>\n",
       "      <td>Ben Christensen</td>\n",
       "      <td>['gradle/doclet-exclude.jar', 'gradle/javadocS...</td>\n",
       "      <td>None, @@ -0,0 +1,59 @@\\n+# originally from htt...</td>\n",
       "      <td>Includes Groovy and JRuby</td>\n",
       "      <td>Language adaptors</td>\n",
       "    </tr>\n",
       "    <tr>\n",
       "      <th>2</th>\n",
       "      <td>3</td>\n",
       "      <td>Ben Christensen</td>\n",
       "      <td>['language-adaptors/rxjava-clojure/build.gradl...</td>\n",
       "      <td>@@ -0,0 +1,7 @@\\n+apply plugin: 'java'\\n+depen...</td>\n",
       "      <td>NaN</td>\n",
       "      <td>Clojure adaptor</td>\n",
       "    </tr>\n",
       "    <tr>\n",
       "      <th>3</th>\n",
       "      <td>4</td>\n",
       "      <td>Ben Christensen</td>\n",
       "      <td>['rxjava-core/src/main/java/org/rx/reactive/Ob...</td>\n",
       "      <td>@@ -304,7 +304,7 @@ public Subscription subscr...</td>\n",
       "      <td>We no longer need this as we've merged the int...</td>\n",
       "      <td>remove 'wrap' functionality</td>\n",
       "    </tr>\n",
       "    <tr>\n",
       "      <th>4</th>\n",
       "      <td>5</td>\n",
       "      <td>Ben Christensen</td>\n",
       "      <td>['language-adaptors/rxjava-clojure/src/main/ja...</td>\n",
       "      <td>@@ -15,8 +15,6 @@\\n  */\\n package org.rx.lang....</td>\n",
       "      <td>NaN</td>\n",
       "      <td>Support multiple class types for language adap...</td>\n",
       "    </tr>\n",
       "  </tbody>\n",
       "</table>\n",
       "</div>"
      ],
      "text/plain": [
       "   Issue_Num     Author_Login  \\\n",
       "0          1  Ben Christensen   \n",
       "1          2  Ben Christensen   \n",
       "2          3  Ben Christensen   \n",
       "3          4  Ben Christensen   \n",
       "4          5  Ben Christensen   \n",
       "\n",
       "                                           File_Name  \\\n",
       "0  ['rxjava-core/src/main/java/org/rx/operations/...   \n",
       "1  ['gradle/doclet-exclude.jar', 'gradle/javadocS...   \n",
       "2  ['language-adaptors/rxjava-clojure/build.gradl...   \n",
       "3  ['rxjava-core/src/main/java/org/rx/reactive/Ob...   \n",
       "4  ['language-adaptors/rxjava-clojure/src/main/ja...   \n",
       "\n",
       "                                          Patch_Text  \\\n",
       "0  @@ -11,7 +11,7 @@\\n  * Thread-safe wrapper aro...   \n",
       "1  None, @@ -0,0 +1,59 @@\\n+# originally from htt...   \n",
       "2  @@ -0,0 +1,7 @@\\n+apply plugin: 'java'\\n+depen...   \n",
       "3  @@ -304,7 +304,7 @@ public Subscription subscr...   \n",
       "4  @@ -15,8 +15,6 @@\\n  */\\n package org.rx.lang....   \n",
       "\n",
       "                                      Commit_Message  \\\n",
       "0                                                NaN   \n",
       "1                          Includes Groovy and JRuby   \n",
       "2                                                NaN   \n",
       "3  We no longer need this as we've merged the int...   \n",
       "4                                                NaN   \n",
       "\n",
       "                                        Commit_Title  \n",
       "0                            Refactoring conventions  \n",
       "1                                  Language adaptors  \n",
       "2                                    Clojure adaptor  \n",
       "3                        remove 'wrap' functionality  \n",
       "4  Support multiple class types for language adap...  "
      ]
     },
     "execution_count": 7,
     "metadata": {},
     "output_type": "execute_result"
    }
   ],
   "source": [
    "authorFilePath.head()"
   ]
  },
  {
   "cell_type": "code",
   "execution_count": 8,
   "metadata": {},
   "outputs": [
    {
     "data": {
      "text/plain": [
       "(3004, 6)"
      ]
     },
     "execution_count": 8,
     "metadata": {},
     "output_type": "execute_result"
    }
   ],
   "source": [
    "authorFilePath.shape\n"
   ]
  },
  {
   "cell_type": "code",
   "execution_count": 9,
   "metadata": {},
   "outputs": [
    {
     "data": {
      "text/plain": [
       "RangeIndex(start=0, stop=3004, step=1)"
      ]
     },
     "execution_count": 9,
     "metadata": {},
     "output_type": "execute_result"
    }
   ],
   "source": [
    "authorFilePath.index\n"
   ]
  },
  {
   "cell_type": "code",
   "execution_count": 10,
   "metadata": {},
   "outputs": [
    {
     "data": {
      "text/plain": [
       "Index(['Issue_Num', 'Author_Login', 'File_Name', 'Patch_Text',\n",
       "       'Commit_Message', 'Commit_Title'],\n",
       "      dtype='object')"
      ]
     },
     "execution_count": 10,
     "metadata": {},
     "output_type": "execute_result"
    }
   ],
   "source": [
    "authorFilePath.columns\n"
   ]
  },
  {
   "cell_type": "code",
   "execution_count": 11,
   "metadata": {},
   "outputs": [
    {
     "data": {
      "text/plain": [
       "Issue_Num          int64\n",
       "Author_Login      object\n",
       "File_Name         object\n",
       "Patch_Text        object\n",
       "Commit_Message    object\n",
       "Commit_Title      object\n",
       "dtype: object"
      ]
     },
     "execution_count": 11,
     "metadata": {},
     "output_type": "execute_result"
    }
   ],
   "source": [
    "authorFilePath.dtypes\n"
   ]
  },
  {
   "cell_type": "code",
   "execution_count": 12,
   "metadata": {},
   "outputs": [],
   "source": [
    "authorFilePath2 = authorFilePath.copy()\n"
   ]
  },
  {
   "cell_type": "code",
   "execution_count": 13,
   "metadata": {},
   "outputs": [
    {
     "data": {
      "text/plain": [
       "Index(['Issue_Num', 'Author_Login', 'File_Name', 'Patch_Text',\n",
       "       'Commit_Message', 'Commit_Title'],\n",
       "      dtype='object')"
      ]
     },
     "execution_count": 13,
     "metadata": {},
     "output_type": "execute_result"
    }
   ],
   "source": [
    "authorFilePath2.columns\n"
   ]
  },
  {
   "cell_type": "code",
   "execution_count": 14,
   "metadata": {},
   "outputs": [
    {
     "data": {
      "text/plain": [
       "0     ['rxjava-core/src/main/java/org/rx/operations/...\n",
       "1     ['gradle/doclet-exclude.jar', 'gradle/javadocS...\n",
       "2     ['language-adaptors/rxjava-clojure/build.gradl...\n",
       "3     ['rxjava-core/src/main/java/org/rx/reactive/Ob...\n",
       "4     ['language-adaptors/rxjava-clojure/src/main/ja...\n",
       "5     ['language-adaptors/rxjava-clojure/src/main/ja...\n",
       "6     ['language-adaptors/rxjava-scala/src/main/scal...\n",
       "7     ['rxjava-core/src/main/java/rx/observables/Obs...\n",
       "8     ['rxjava-core/src/main/java/rx/concurrency/pac...\n",
       "9     ['rxjava-core/src/main/java/rx/subjects/Subjec...\n",
       "10    ['rxjava-core/src/main/java/rx/observables/Obs...\n",
       "11    ['language-adaptors/rxjava-groovy/src/main/jav...\n",
       "12                                       ['.gitignore']\n",
       "13    ['rxjava-examples/build.gradle', 'rxjava-examp...\n",
       "14    ['rxjava-core/src/main/java/rx/observables/Obs...\n",
       "15    ['language-adaptors/rxjava-clojure/build.gradl...\n",
       "16    ['rxjava-examples/src/main/clojure/rx/examples...\n",
       "17    ['language-adaptors/rxjava-clojure/src/main/ja...\n",
       "18    ['rxjava-core/src/main/java/rx/Notification.ja...\n",
       "19    ['rxjava-examples/src/main/clojure/rx/examples...\n",
       "20    ['rxjava-examples/build.gradle', 'rxjava-examp...\n",
       "21    ['language-adaptors/rxjava-scala/src/main/scal...\n",
       "22                                        ['README.md']\n",
       "23    ['rxjava-core/src/main/java/rx/Observable.java...\n",
       "24    ['language-adaptors/rxjava-clojure/build.gradl...\n",
       "25    ['rxjava-core/src/main/java/rx/operators/Opera...\n",
       "26    ['language-adaptors/rxjava-clojure/src/example...\n",
       "27    ['language-adaptors/rxjava-clojure/src/example...\n",
       "28         ['language-adaptors/rxjava-scala/README.md']\n",
       "29    ['rxjava-core/src/main/java/rx/Observable.java...\n",
       "30     ['rxjava-core/src/main/java/rx/Observable.java']\n",
       "Name: File_Name, dtype: object"
      ]
     },
     "execution_count": 14,
     "metadata": {},
     "output_type": "execute_result"
    }
   ],
   "source": [
    "authorFilePath2.loc[0:30,\"File_Name\"]"
   ]
  },
  {
   "cell_type": "code",
   "execution_count": 15,
   "metadata": {},
   "outputs": [
    {
     "name": "stderr",
     "output_type": "stream",
     "text": [
      "<ipython-input-15-65246afc4a69>:1: FutureWarning: The default value of regex will change from True to False in a future version. In addition, single character regular expressions will*not* be treated as literal strings when regex=True.\n",
      "  file_names_without_brackets = authorFilePath2.File_Name.str.replace(\"[\",\"\")\n"
     ]
    }
   ],
   "source": [
    "file_names_without_brackets = authorFilePath2.File_Name.str.replace(\"[\",\"\")"
   ]
  },
  {
   "cell_type": "code",
   "execution_count": 16,
   "metadata": {},
   "outputs": [
    {
     "data": {
      "text/plain": [
       "pandas.core.series.Series"
      ]
     },
     "execution_count": 16,
     "metadata": {},
     "output_type": "execute_result"
    }
   ],
   "source": [
    "type(file_names_without_brackets)"
   ]
  },
  {
   "cell_type": "code",
   "execution_count": 17,
   "metadata": {},
   "outputs": [
    {
     "name": "stderr",
     "output_type": "stream",
     "text": [
      "<ipython-input-17-bc01c40ea8a3>:1: FutureWarning: The default value of regex will change from True to False in a future version. In addition, single character regular expressions will*not* be treated as literal strings when regex=True.\n",
      "  file_names_without_brackets2 = file_names_without_brackets.str.replace(\"]\",\"\")\n"
     ]
    }
   ],
   "source": [
    "file_names_without_brackets2 = file_names_without_brackets.str.replace(\"]\",\"\")"
   ]
  },
  {
   "cell_type": "code",
   "execution_count": 18,
   "metadata": {},
   "outputs": [
    {
     "data": {
      "text/plain": [
       "0    'rxjava-core/src/main/java/org/rx/operations/A...\n",
       "1    'gradle/doclet-exclude.jar', 'gradle/javadocSt...\n",
       "2    'language-adaptors/rxjava-clojure/build.gradle...\n",
       "3    'rxjava-core/src/main/java/org/rx/reactive/Obs...\n",
       "4    'language-adaptors/rxjava-clojure/src/main/jav...\n",
       "Name: File_Name, dtype: object"
      ]
     },
     "execution_count": 18,
     "metadata": {},
     "output_type": "execute_result"
    }
   ],
   "source": [
    "file_names_without_brackets2.head()"
   ]
  },
  {
   "cell_type": "code",
   "execution_count": 19,
   "metadata": {},
   "outputs": [],
   "source": [
    "authorFilePath[\"files\"] = file_names_without_brackets2"
   ]
  },
  {
   "cell_type": "code",
   "execution_count": 20,
   "metadata": {},
   "outputs": [],
   "source": [
    "dataframe_file_names = authorFilePath.files.str.split(\",\", expand=True)"
   ]
  },
  {
   "cell_type": "code",
   "execution_count": 21,
   "metadata": {},
   "outputs": [],
   "source": [
    "dataframe_file_names[\"pr\"] = authorFilePath[\"Issue_Num\"]"
   ]
  },
  {
   "cell_type": "code",
   "execution_count": 22,
   "metadata": {},
   "outputs": [
    {
     "data": {
      "text/plain": [
       "0    1\n",
       "1    2\n",
       "2    3\n",
       "3    4\n",
       "4    5\n",
       "Name: pr, dtype: int64"
      ]
     },
     "execution_count": 22,
     "metadata": {},
     "output_type": "execute_result"
    }
   ],
   "source": [
    "dataframe_file_names[\"pr\"].head()"
   ]
  },
  {
   "cell_type": "code",
   "execution_count": 23,
   "metadata": {},
   "outputs": [],
   "source": [
    "dataframe_file_names[\"title\"] = authorFilePath[\"Commit_Title\"]"
   ]
  },
  {
   "cell_type": "code",
   "execution_count": 24,
   "metadata": {},
   "outputs": [
    {
     "data": {
      "text/plain": [
       "0                              Refactoring conventions\n",
       "1                                    Language adaptors\n",
       "2                                      Clojure adaptor\n",
       "3                          remove 'wrap' functionality\n",
       "4    Support multiple class types for language adap...\n",
       "Name: title, dtype: object"
      ]
     },
     "execution_count": 24,
     "metadata": {},
     "output_type": "execute_result"
    }
   ],
   "source": [
    "dataframe_file_names[\"title\"].head()"
   ]
  },
  {
   "cell_type": "code",
   "execution_count": 25,
   "metadata": {},
   "outputs": [],
   "source": [
    "dataframe_file_names[\"body\"] = authorFilePath[\"Commit_Message\"] "
   ]
  },
  {
   "cell_type": "code",
   "execution_count": 26,
   "metadata": {},
   "outputs": [
    {
     "data": {
      "text/plain": [
       "0                                                  NaN\n",
       "1                            Includes Groovy and JRuby\n",
       "2                                                  NaN\n",
       "3    We no longer need this as we've merged the int...\n",
       "4                                                  NaN\n",
       "Name: body, dtype: object"
      ]
     },
     "execution_count": 26,
     "metadata": {},
     "output_type": "execute_result"
    }
   ],
   "source": [
    "dataframe_file_names[\"body\"].head()"
   ]
  },
  {
   "cell_type": "code",
   "execution_count": 27,
   "metadata": {},
   "outputs": [
    {
     "data": {
      "text/html": [
       "<div>\n",
       "<style scoped>\n",
       "    .dataframe tbody tr th:only-of-type {\n",
       "        vertical-align: middle;\n",
       "    }\n",
       "\n",
       "    .dataframe tbody tr th {\n",
       "        vertical-align: top;\n",
       "    }\n",
       "\n",
       "    .dataframe thead th {\n",
       "        text-align: right;\n",
       "    }\n",
       "</style>\n",
       "<table border=\"1\" class=\"dataframe\">\n",
       "  <thead>\n",
       "    <tr style=\"text-align: right;\">\n",
       "      <th></th>\n",
       "      <th>0</th>\n",
       "      <th>1</th>\n",
       "      <th>2</th>\n",
       "      <th>3</th>\n",
       "      <th>4</th>\n",
       "      <th>5</th>\n",
       "      <th>6</th>\n",
       "      <th>7</th>\n",
       "      <th>8</th>\n",
       "      <th>9</th>\n",
       "      <th>...</th>\n",
       "      <th>293</th>\n",
       "      <th>294</th>\n",
       "      <th>295</th>\n",
       "      <th>296</th>\n",
       "      <th>297</th>\n",
       "      <th>298</th>\n",
       "      <th>299</th>\n",
       "      <th>pr</th>\n",
       "      <th>title</th>\n",
       "      <th>body</th>\n",
       "    </tr>\n",
       "  </thead>\n",
       "  <tbody>\n",
       "    <tr>\n",
       "      <th>0</th>\n",
       "      <td>'rxjava-core/src/main/java/org/rx/operations/A...</td>\n",
       "      <td>'rxjava-core/src/main/java/org/rx/operations/...</td>\n",
       "      <td>'rxjava-core/src/main/java/org/rx/operations/...</td>\n",
       "      <td>'rxjava-core/src/main/java/org/rx/operations/...</td>\n",
       "      <td>'rxjava-core/src/main/java/org/rx/operations/...</td>\n",
       "      <td>'rxjava-core/src/main/java/org/rx/operations/...</td>\n",
       "      <td>'rxjava-core/src/main/java/org/rx/operations/...</td>\n",
       "      <td>'rxjava-core/src/main/java/org/rx/operations/...</td>\n",
       "      <td>'rxjava-core/src/main/java/org/rx/operations/...</td>\n",
       "      <td>'rxjava-core/src/main/java/org/rx/operations/...</td>\n",
       "      <td>...</td>\n",
       "      <td>None</td>\n",
       "      <td>None</td>\n",
       "      <td>None</td>\n",
       "      <td>None</td>\n",
       "      <td>None</td>\n",
       "      <td>None</td>\n",
       "      <td>None</td>\n",
       "      <td>1</td>\n",
       "      <td>Refactoring conventions</td>\n",
       "      <td>NaN</td>\n",
       "    </tr>\n",
       "    <tr>\n",
       "      <th>1</th>\n",
       "      <td>'gradle/doclet-exclude.jar'</td>\n",
       "      <td>'gradle/javadocStyleSheet.css'</td>\n",
       "      <td>'rxjava-core/build.gradle'</td>\n",
       "      <td>None</td>\n",
       "      <td>None</td>\n",
       "      <td>None</td>\n",
       "      <td>None</td>\n",
       "      <td>None</td>\n",
       "      <td>None</td>\n",
       "      <td>None</td>\n",
       "      <td>...</td>\n",
       "      <td>None</td>\n",
       "      <td>None</td>\n",
       "      <td>None</td>\n",
       "      <td>None</td>\n",
       "      <td>None</td>\n",
       "      <td>None</td>\n",
       "      <td>None</td>\n",
       "      <td>2</td>\n",
       "      <td>Language adaptors</td>\n",
       "      <td>Includes Groovy and JRuby</td>\n",
       "    </tr>\n",
       "    <tr>\n",
       "      <th>2</th>\n",
       "      <td>'language-adaptors/rxjava-clojure/build.gradle'</td>\n",
       "      <td>'language-adaptors/rxjava-clojure/src/main/ja...</td>\n",
       "      <td>'settings.gradle'</td>\n",
       "      <td>None</td>\n",
       "      <td>None</td>\n",
       "      <td>None</td>\n",
       "      <td>None</td>\n",
       "      <td>None</td>\n",
       "      <td>None</td>\n",
       "      <td>None</td>\n",
       "      <td>...</td>\n",
       "      <td>None</td>\n",
       "      <td>None</td>\n",
       "      <td>None</td>\n",
       "      <td>None</td>\n",
       "      <td>None</td>\n",
       "      <td>None</td>\n",
       "      <td>None</td>\n",
       "      <td>3</td>\n",
       "      <td>Clojure adaptor</td>\n",
       "      <td>NaN</td>\n",
       "    </tr>\n",
       "    <tr>\n",
       "      <th>3</th>\n",
       "      <td>'rxjava-core/src/main/java/org/rx/reactive/Obs...</td>\n",
       "      <td>None</td>\n",
       "      <td>None</td>\n",
       "      <td>None</td>\n",
       "      <td>None</td>\n",
       "      <td>None</td>\n",
       "      <td>None</td>\n",
       "      <td>None</td>\n",
       "      <td>None</td>\n",
       "      <td>None</td>\n",
       "      <td>...</td>\n",
       "      <td>None</td>\n",
       "      <td>None</td>\n",
       "      <td>None</td>\n",
       "      <td>None</td>\n",
       "      <td>None</td>\n",
       "      <td>None</td>\n",
       "      <td>None</td>\n",
       "      <td>4</td>\n",
       "      <td>remove 'wrap' functionality</td>\n",
       "      <td>We no longer need this as we've merged the int...</td>\n",
       "    </tr>\n",
       "    <tr>\n",
       "      <th>4</th>\n",
       "      <td>'language-adaptors/rxjava-clojure/src/main/jav...</td>\n",
       "      <td>'language-adaptors/rxjava-groovy/src/main/jav...</td>\n",
       "      <td>'language-adaptors/rxjava-jruby/src/main/java...</td>\n",
       "      <td>'rxjava-core/src/main/java/org/rx/functions/F...</td>\n",
       "      <td>'rxjava-core/src/main/java/org/rx/functions/F...</td>\n",
       "      <td>None</td>\n",
       "      <td>None</td>\n",
       "      <td>None</td>\n",
       "      <td>None</td>\n",
       "      <td>None</td>\n",
       "      <td>...</td>\n",
       "      <td>None</td>\n",
       "      <td>None</td>\n",
       "      <td>None</td>\n",
       "      <td>None</td>\n",
       "      <td>None</td>\n",
       "      <td>None</td>\n",
       "      <td>None</td>\n",
       "      <td>5</td>\n",
       "      <td>Support multiple class types for language adap...</td>\n",
       "      <td>NaN</td>\n",
       "    </tr>\n",
       "  </tbody>\n",
       "</table>\n",
       "<p>5 rows × 303 columns</p>\n",
       "</div>"
      ],
      "text/plain": [
       "                                                   0  \\\n",
       "0  'rxjava-core/src/main/java/org/rx/operations/A...   \n",
       "1                        'gradle/doclet-exclude.jar'   \n",
       "2    'language-adaptors/rxjava-clojure/build.gradle'   \n",
       "3  'rxjava-core/src/main/java/org/rx/reactive/Obs...   \n",
       "4  'language-adaptors/rxjava-clojure/src/main/jav...   \n",
       "\n",
       "                                                   1  \\\n",
       "0   'rxjava-core/src/main/java/org/rx/operations/...   \n",
       "1                     'gradle/javadocStyleSheet.css'   \n",
       "2   'language-adaptors/rxjava-clojure/src/main/ja...   \n",
       "3                                               None   \n",
       "4   'language-adaptors/rxjava-groovy/src/main/jav...   \n",
       "\n",
       "                                                   2  \\\n",
       "0   'rxjava-core/src/main/java/org/rx/operations/...   \n",
       "1                         'rxjava-core/build.gradle'   \n",
       "2                                  'settings.gradle'   \n",
       "3                                               None   \n",
       "4   'language-adaptors/rxjava-jruby/src/main/java...   \n",
       "\n",
       "                                                   3  \\\n",
       "0   'rxjava-core/src/main/java/org/rx/operations/...   \n",
       "1                                               None   \n",
       "2                                               None   \n",
       "3                                               None   \n",
       "4   'rxjava-core/src/main/java/org/rx/functions/F...   \n",
       "\n",
       "                                                   4  \\\n",
       "0   'rxjava-core/src/main/java/org/rx/operations/...   \n",
       "1                                               None   \n",
       "2                                               None   \n",
       "3                                               None   \n",
       "4   'rxjava-core/src/main/java/org/rx/functions/F...   \n",
       "\n",
       "                                                   5  \\\n",
       "0   'rxjava-core/src/main/java/org/rx/operations/...   \n",
       "1                                               None   \n",
       "2                                               None   \n",
       "3                                               None   \n",
       "4                                               None   \n",
       "\n",
       "                                                   6  \\\n",
       "0   'rxjava-core/src/main/java/org/rx/operations/...   \n",
       "1                                               None   \n",
       "2                                               None   \n",
       "3                                               None   \n",
       "4                                               None   \n",
       "\n",
       "                                                   7  \\\n",
       "0   'rxjava-core/src/main/java/org/rx/operations/...   \n",
       "1                                               None   \n",
       "2                                               None   \n",
       "3                                               None   \n",
       "4                                               None   \n",
       "\n",
       "                                                   8  \\\n",
       "0   'rxjava-core/src/main/java/org/rx/operations/...   \n",
       "1                                               None   \n",
       "2                                               None   \n",
       "3                                               None   \n",
       "4                                               None   \n",
       "\n",
       "                                                   9  ...   293   294   295  \\\n",
       "0   'rxjava-core/src/main/java/org/rx/operations/...  ...  None  None  None   \n",
       "1                                               None  ...  None  None  None   \n",
       "2                                               None  ...  None  None  None   \n",
       "3                                               None  ...  None  None  None   \n",
       "4                                               None  ...  None  None  None   \n",
       "\n",
       "    296   297   298   299 pr  \\\n",
       "0  None  None  None  None  1   \n",
       "1  None  None  None  None  2   \n",
       "2  None  None  None  None  3   \n",
       "3  None  None  None  None  4   \n",
       "4  None  None  None  None  5   \n",
       "\n",
       "                                               title  \\\n",
       "0                            Refactoring conventions   \n",
       "1                                  Language adaptors   \n",
       "2                                    Clojure adaptor   \n",
       "3                        remove 'wrap' functionality   \n",
       "4  Support multiple class types for language adap...   \n",
       "\n",
       "                                                body  \n",
       "0                                                NaN  \n",
       "1                          Includes Groovy and JRuby  \n",
       "2                                                NaN  \n",
       "3  We no longer need this as we've merged the int...  \n",
       "4                                                NaN  \n",
       "\n",
       "[5 rows x 303 columns]"
      ]
     },
     "execution_count": 27,
     "metadata": {},
     "output_type": "execute_result"
    }
   ],
   "source": [
    "dataframe_file_names.head()"
   ]
  },
  {
   "cell_type": "code",
   "execution_count": 28,
   "metadata": {},
   "outputs": [],
   "source": [
    "dataframe_file_names.to_csv( fileNameOutput, encoding='utf-8', index=False)\n",
    "            "
   ]
  },
  {
   "cell_type": "code",
   "execution_count": 29,
   "metadata": {},
   "outputs": [],
   "source": [
    "files_list2 = []\n",
    "def filter_java2(lines):\n",
    " \n",
    "    for i, v in lines.items():\n",
    "        pr = lines[\"pr\"]\n",
    "        print(\"Lines:\",i, lines[\"pr\"])\n",
    "        if v is not None:\n",
    "            if type(v) == str:\n",
    "        \n",
    "                if (v.find('.java') != -1): \n",
    "                    print(\"java:\",v)\n",
    "                    dict1 = {}\n",
    "                    # get input row in dictionary format\n",
    "                    # key = col_name\n",
    "                    d = {pr:v}\n",
    "                    dict1.update(d) \n",
    "\n",
    "                    files_list2.append(dict1)\n",
    "                else:\n",
    "                    print(\"not a java file:\",v, \"idx\", i)\n",
    "            else:\n",
    "                print(\"not a String:\", v, \"idx\", i)\n",
    "        else:\n",
    "            print(\"None:\", v, \"idx\", i)\n",
    "    df_fn_filtered = pd.DataFrame(files_list)\n",
    "\n",
    "        \n",
    "        "
   ]
  },
  {
   "cell_type": "code",
   "execution_count": 30,
   "metadata": {},
   "outputs": [],
   "source": [
    "#dataframe_file_names.apply(filter_java2, axis=1)"
   ]
  },
  {
   "cell_type": "code",
   "execution_count": 31,
   "metadata": {},
   "outputs": [],
   "source": [
    "files_list = []\n",
    "def filter_java0(lines):\n",
    " \n",
    "    for i, v in lines.items():\n",
    "        #pr = lines[\"pr\"]\n",
    "        #print(\"Lines:\",i, lines[\"pr\"])\n",
    "        if v is not None:\n",
    "            if type(v) == str:\n",
    "        \n",
    "                if (v.find('.java') != -1): \n",
    "                    print(\"java:\",v)\n",
    "                    dict1 = {}\n",
    "                    # get input row in dictionary format\n",
    "                    # key = col_name\n",
    "                    d = {i:v}\n",
    "                    dict1.update(d) \n",
    "\n",
    "                    files_list.append(dict1)\n",
    "                else:\n",
    "                    print(\"not a java file:\",v, \"idx\", i)\n",
    "            else:\n",
    "                print(\"not a String:\", v, \"idx\", i)\n",
    "        else:\n",
    "            print(\"None:\", v, \"idx\", i)"
   ]
  },
  {
   "cell_type": "code",
   "execution_count": 32,
   "metadata": {},
   "outputs": [
    {
     "data": {
      "text/plain": [
       "0        'rxjava-core/src/main/java/org/rx/operations/A...\n",
       "1         'rxjava-core/src/main/java/org/rx/operations/...\n",
       "2         'rxjava-core/src/main/java/org/rx/operations/...\n",
       "3         'rxjava-core/src/main/java/org/rx/operations/...\n",
       "4         'rxjava-core/src/main/java/org/rx/operations/...\n",
       "                               ...                        \n",
       "298                                                   None\n",
       "299                                                   None\n",
       "pr                                                       1\n",
       "title                              Refactoring conventions\n",
       "body                                                   NaN\n",
       "Name: 0, Length: 303, dtype: object"
      ]
     },
     "execution_count": 32,
     "metadata": {},
     "output_type": "execute_result"
    }
   ],
   "source": [
    "dataframe_file_names.loc[0,:]    "
   ]
  },
  {
   "cell_type": "code",
   "execution_count": 33,
   "metadata": {},
   "outputs": [
    {
     "data": {
      "text/plain": [
       "pandas.core.frame.DataFrame"
      ]
     },
     "execution_count": 33,
     "metadata": {},
     "output_type": "execute_result"
    }
   ],
   "source": [
    "type(dataframe_file_names.loc[:,:])"
   ]
  },
  {
   "cell_type": "code",
   "execution_count": 34,
   "metadata": {},
   "outputs": [
    {
     "name": "stdout",
     "output_type": "stream",
     "text": [
      "0\n",
      "1\n",
      "2\n",
      "3\n",
      "4\n",
      "5\n",
      "6\n",
      "7\n",
      "8\n",
      "9\n",
      "10\n",
      "11\n",
      "12\n",
      "13\n",
      "14\n",
      "15\n",
      "16\n",
      "17\n",
      "18\n",
      "19\n",
      "20\n",
      "21\n",
      "22\n",
      "23\n",
      "24\n",
      "25\n",
      "26\n",
      "27\n",
      "28\n",
      "29\n",
      "30\n",
      "31\n",
      "32\n",
      "33\n",
      "34\n",
      "35\n",
      "36\n",
      "37\n",
      "38\n",
      "39\n",
      "40\n",
      "41\n",
      "42\n",
      "43\n",
      "44\n",
      "45\n",
      "46\n",
      "47\n",
      "48\n",
      "49\n",
      "50\n",
      "51\n",
      "52\n",
      "53\n",
      "54\n",
      "55\n",
      "56\n",
      "57\n",
      "58\n",
      "59\n",
      "60\n",
      "61\n",
      "62\n",
      "63\n",
      "64\n",
      "65\n",
      "66\n",
      "67\n",
      "68\n",
      "69\n",
      "70\n",
      "71\n",
      "72\n",
      "73\n",
      "74\n",
      "75\n",
      "76\n",
      "77\n",
      "78\n",
      "79\n",
      "80\n",
      "81\n",
      "82\n",
      "83\n",
      "84\n",
      "85\n",
      "86\n",
      "87\n",
      "88\n",
      "89\n",
      "90\n",
      "91\n",
      "92\n",
      "93\n",
      "94\n",
      "95\n",
      "96\n",
      "97\n",
      "98\n",
      "99\n",
      "100\n",
      "101\n",
      "102\n",
      "103\n",
      "104\n",
      "105\n",
      "106\n",
      "107\n",
      "108\n",
      "109\n",
      "110\n",
      "111\n",
      "112\n",
      "113\n",
      "114\n",
      "115\n",
      "116\n",
      "117\n",
      "118\n",
      "119\n",
      "120\n",
      "121\n",
      "122\n",
      "123\n",
      "124\n",
      "125\n",
      "126\n",
      "127\n",
      "128\n",
      "129\n",
      "130\n",
      "131\n",
      "132\n",
      "133\n",
      "134\n",
      "135\n",
      "136\n",
      "137\n",
      "138\n",
      "139\n",
      "140\n",
      "141\n",
      "142\n",
      "143\n",
      "144\n",
      "145\n",
      "146\n",
      "147\n",
      "148\n",
      "149\n",
      "150\n",
      "151\n",
      "152\n",
      "153\n",
      "154\n",
      "155\n",
      "156\n",
      "157\n",
      "158\n",
      "159\n",
      "160\n",
      "161\n",
      "162\n",
      "163\n",
      "164\n",
      "165\n",
      "166\n",
      "167\n",
      "168\n",
      "169\n",
      "170\n",
      "171\n",
      "172\n",
      "173\n",
      "174\n",
      "175\n",
      "176\n",
      "177\n",
      "178\n",
      "179\n",
      "180\n",
      "181\n",
      "182\n",
      "183\n",
      "184\n",
      "185\n",
      "186\n",
      "187\n",
      "188\n",
      "189\n",
      "190\n",
      "191\n",
      "192\n",
      "193\n",
      "194\n",
      "195\n",
      "196\n",
      "197\n",
      "198\n",
      "199\n",
      "200\n",
      "201\n",
      "202\n",
      "203\n",
      "204\n",
      "205\n",
      "206\n",
      "207\n",
      "208\n",
      "209\n",
      "210\n",
      "211\n",
      "212\n",
      "213\n",
      "214\n",
      "215\n",
      "216\n",
      "217\n",
      "218\n",
      "219\n",
      "220\n",
      "221\n",
      "222\n",
      "223\n",
      "224\n",
      "225\n",
      "226\n",
      "227\n",
      "228\n",
      "229\n",
      "230\n",
      "231\n",
      "232\n",
      "233\n",
      "234\n",
      "235\n",
      "236\n",
      "237\n",
      "238\n",
      "239\n",
      "240\n",
      "241\n",
      "242\n",
      "243\n",
      "244\n",
      "245\n",
      "246\n",
      "247\n",
      "248\n",
      "249\n",
      "250\n",
      "251\n",
      "252\n",
      "253\n",
      "254\n",
      "255\n",
      "256\n",
      "257\n",
      "258\n",
      "259\n",
      "260\n",
      "261\n",
      "262\n",
      "263\n",
      "264\n",
      "265\n",
      "266\n",
      "267\n",
      "268\n",
      "269\n",
      "270\n",
      "271\n",
      "272\n",
      "273\n",
      "274\n",
      "275\n",
      "276\n",
      "277\n",
      "278\n",
      "279\n",
      "280\n",
      "281\n",
      "282\n",
      "283\n",
      "284\n",
      "285\n",
      "286\n",
      "287\n",
      "288\n",
      "289\n",
      "290\n",
      "291\n",
      "292\n",
      "293\n",
      "294\n",
      "295\n",
      "296\n",
      "297\n",
      "298\n",
      "299\n",
      "pr\n",
      "title\n",
      "body\n"
     ]
    }
   ],
   "source": [
    "for row in dataframe_file_names:\n",
    "    print (row)\n",
    "    \n",
    "    "
   ]
  },
  {
   "cell_type": "code",
   "execution_count": 35,
   "metadata": {},
   "outputs": [],
   "source": [
    "files_list3 = []\n",
    "\n",
    "def filter_java3(lines):\n",
    " \n",
    "    for i, v in lines.items():\n",
    "        \n",
    "        pr = lines[\"pr\"]\n",
    "        \n",
    "        #v = lines[\"java\"]\n",
    "        \n",
    "        body = str(lines[\"body\"])\n",
    "        #type(body)\n",
    "        #print(body)\n",
    "        body = body.replace(\"\\n\", \" \")\n",
    "        body = body.replace(\"\\\"\", \" \")\n",
    "        body = body.replace(\"\\'\", \" \")\n",
    "        body = body.replace(\"`\", \" \")\n",
    "        body = body.replace(\";\", \" \")\n",
    "        body = body.replace(\",\", \" \")\n",
    "        \n",
    "        title = lines[\"title\"]\n",
    "        title = title.replace(\"\\n\", \" \")\n",
    "        title = title.replace(\"\\\"\", \" \")\n",
    "        title = title.replace(\"\\'\", \" \")\n",
    "        title = title.replace(\"`\", \" \")\n",
    "        title = title.replace(\";\", \" \")\n",
    "        title = title.replace(\",\", \" \")\n",
    "        #print(\"Lines:\",i, lines[\"pr\"])\n",
    "        if v is not None:\n",
    "            if type(v) == str:\n",
    "                if i == \"pr\" or i == \"body\" or i == \"title\":\n",
    "                    pass\n",
    "                else:\n",
    "                    if (v.find('.java') != -1): \n",
    "                        #print(\"write pr:\", pr,\" java:\",v)\n",
    "\n",
    "                        #dict1 = {}\n",
    "                        # get input row in dictionary format\n",
    "                        # key = col_name\n",
    "                        #d = {pr:v}\n",
    "                        #dict1.update(d) \n",
    "\n",
    "                        #files_list3.append(dict1)\n",
    "                        data = pr,\";\",v,\";\",title,\";\",body\n",
    "                        files_list3.append(data)\n",
    "                    #else:\n",
    "                        #print(\"not a java file:\",v, \" idx\", i)\n",
    "            #else:\n",
    "                #print(\"not a String:\", v, \" idx\", i)\n",
    "        #else:\n",
    "            #print(\"None:\", v, \" idx\", i)\n",
    "    "
   ]
  },
  {
   "cell_type": "code",
   "execution_count": null,
   "metadata": {},
   "outputs": [],
   "source": []
  },
  {
   "cell_type": "code",
   "execution_count": 36,
   "metadata": {},
   "outputs": [
    {
     "data": {
      "text/plain": [
       "0       None\n",
       "1       None\n",
       "2       None\n",
       "3       None\n",
       "4       None\n",
       "        ... \n",
       "2999    None\n",
       "3000    None\n",
       "3001    None\n",
       "3002    None\n",
       "3003    None\n",
       "Length: 3004, dtype: object"
      ]
     },
     "execution_count": 36,
     "metadata": {},
     "output_type": "execute_result"
    }
   ],
   "source": [
    "dataframe_file_names.apply(filter_java3, axis=1)"
   ]
  },
  {
   "cell_type": "code",
   "execution_count": 37,
   "metadata": {},
   "outputs": [],
   "source": [
    "df_fn_filtered3 = pd.DataFrame(files_list3)"
   ]
  },
  {
   "cell_type": "code",
   "execution_count": 38,
   "metadata": {},
   "outputs": [],
   "source": [
    "files_list3 = []"
   ]
  },
  {
   "cell_type": "code",
   "execution_count": 39,
   "metadata": {},
   "outputs": [],
   "source": [
    "pd.set_option('display.width', 30000)\n",
    "pd.set_option('display.max_columns', 1000)\n",
    "pd.set_option('display.max_colwidth', 1000)"
   ]
  },
  {
   "cell_type": "code",
   "execution_count": 40,
   "metadata": {},
   "outputs": [
    {
     "data": {
      "text/plain": [
       "0     nan\n",
       "1     nan\n",
       "2     nan\n",
       "3     nan\n",
       "4     nan\n",
       "5     nan\n",
       "6     nan\n",
       "7     nan\n",
       "8     nan\n",
       "9     nan\n",
       "10    nan\n",
       "Name: 6, dtype: object"
      ]
     },
     "execution_count": 40,
     "metadata": {},
     "output_type": "execute_result"
    }
   ],
   "source": [
    "df_fn_filtered3.loc[0:10,6]\n"
   ]
  },
  {
   "cell_type": "code",
   "execution_count": 41,
   "metadata": {},
   "outputs": [],
   "source": [
    "#del df_fn_filtered3"
   ]
  },
  {
   "cell_type": "code",
   "execution_count": 42,
   "metadata": {},
   "outputs": [
    {
     "data": {
      "text/plain": [
       "0"
      ]
     },
     "execution_count": 42,
     "metadata": {},
     "output_type": "execute_result"
    }
   ],
   "source": [
    "import gc\n",
    "gc.collect()"
   ]
  },
  {
   "cell_type": "code",
   "execution_count": 43,
   "metadata": {},
   "outputs": [
    {
     "data": {
      "text/html": [
       "<div>\n",
       "<style scoped>\n",
       "    .dataframe tbody tr th:only-of-type {\n",
       "        vertical-align: middle;\n",
       "    }\n",
       "\n",
       "    .dataframe tbody tr th {\n",
       "        vertical-align: top;\n",
       "    }\n",
       "\n",
       "    .dataframe thead th {\n",
       "        text-align: right;\n",
       "    }\n",
       "</style>\n",
       "<table border=\"1\" class=\"dataframe\">\n",
       "  <thead>\n",
       "    <tr style=\"text-align: right;\">\n",
       "      <th></th>\n",
       "      <th>0</th>\n",
       "      <th>1</th>\n",
       "      <th>2</th>\n",
       "      <th>3</th>\n",
       "      <th>4</th>\n",
       "      <th>5</th>\n",
       "      <th>6</th>\n",
       "    </tr>\n",
       "  </thead>\n",
       "  <tbody>\n",
       "    <tr>\n",
       "      <th>0</th>\n",
       "      <td>1</td>\n",
       "      <td>;</td>\n",
       "      <td>'rxjava-core/src/main/java/org/rx/operations/AtomicObservableSubscription.java'</td>\n",
       "      <td>;</td>\n",
       "      <td>Refactoring conventions</td>\n",
       "      <td>;</td>\n",
       "      <td>nan</td>\n",
       "    </tr>\n",
       "    <tr>\n",
       "      <th>1</th>\n",
       "      <td>1</td>\n",
       "      <td>;</td>\n",
       "      <td>'rxjava-core/src/main/java/org/rx/operations/AtomicObserver.java'</td>\n",
       "      <td>;</td>\n",
       "      <td>Refactoring conventions</td>\n",
       "      <td>;</td>\n",
       "      <td>nan</td>\n",
       "    </tr>\n",
       "    <tr>\n",
       "      <th>2</th>\n",
       "      <td>1</td>\n",
       "      <td>;</td>\n",
       "      <td>'rxjava-core/src/main/java/org/rx/operations/AtomicObserverMultiThreaded.java'</td>\n",
       "      <td>;</td>\n",
       "      <td>Refactoring conventions</td>\n",
       "      <td>;</td>\n",
       "      <td>nan</td>\n",
       "    </tr>\n",
       "    <tr>\n",
       "      <th>3</th>\n",
       "      <td>1</td>\n",
       "      <td>;</td>\n",
       "      <td>'rxjava-core/src/main/java/org/rx/operations/AtomicObserverSingleThreaded.java'</td>\n",
       "      <td>;</td>\n",
       "      <td>Refactoring conventions</td>\n",
       "      <td>;</td>\n",
       "      <td>nan</td>\n",
       "    </tr>\n",
       "    <tr>\n",
       "      <th>4</th>\n",
       "      <td>1</td>\n",
       "      <td>;</td>\n",
       "      <td>'rxjava-core/src/main/java/org/rx/operations/ObservableExtensions.java'</td>\n",
       "      <td>;</td>\n",
       "      <td>Refactoring conventions</td>\n",
       "      <td>;</td>\n",
       "      <td>nan</td>\n",
       "    </tr>\n",
       "  </tbody>\n",
       "</table>\n",
       "</div>"
      ],
      "text/plain": [
       "   0  1                                                                                 2  3                        4  5    6\n",
       "0  1  ;   'rxjava-core/src/main/java/org/rx/operations/AtomicObservableSubscription.java'  ;  Refactoring conventions  ;  nan\n",
       "1  1  ;                 'rxjava-core/src/main/java/org/rx/operations/AtomicObserver.java'  ;  Refactoring conventions  ;  nan\n",
       "2  1  ;    'rxjava-core/src/main/java/org/rx/operations/AtomicObserverMultiThreaded.java'  ;  Refactoring conventions  ;  nan\n",
       "3  1  ;   'rxjava-core/src/main/java/org/rx/operations/AtomicObserverSingleThreaded.java'  ;  Refactoring conventions  ;  nan\n",
       "4  1  ;           'rxjava-core/src/main/java/org/rx/operations/ObservableExtensions.java'  ;  Refactoring conventions  ;  nan"
      ]
     },
     "execution_count": 43,
     "metadata": {},
     "output_type": "execute_result"
    }
   ],
   "source": [
    "df_fn_filtered3.head()"
   ]
  },
  {
   "cell_type": "code",
   "execution_count": 44,
   "metadata": {},
   "outputs": [],
   "source": [
    "df_fn_filtered3.to_csv( PR3_csv, encoding='utf-8', header=False, index=False, sep='\\t')"
   ]
  },
  {
   "cell_type": "code",
   "execution_count": 45,
   "metadata": {},
   "outputs": [],
   "source": [
    "import numpy as np\n",
    "np.savetxt( PR3_txt, df_fn_filtered3.values, fmt='%s', delimiter=' ')"
   ]
  },
  {
   "cell_type": "code",
   "execution_count": 46,
   "metadata": {},
   "outputs": [],
   "source": [
    "del df_fn_filtered3"
   ]
  },
  {
   "cell_type": "code",
   "execution_count": null,
   "metadata": {},
   "outputs": [],
   "source": []
  }
 ],
 "metadata": {
  "kernelspec": {
   "display_name": "Python 3",
   "language": "python",
   "name": "python3"
  },
  "language_info": {
   "codemirror_mode": {
    "name": "ipython",
    "version": 3
   },
   "file_extension": ".py",
   "mimetype": "text/x-python",
   "name": "python",
   "nbconvert_exporter": "python",
   "pygments_lexer": "ipython3",
   "version": "3.9.5"
  }
 },
 "nbformat": 4,
 "nbformat_minor": 2
}
