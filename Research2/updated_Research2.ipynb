{
 "cells": [
  {
   "cell_type": "code",
   "execution_count": 1,
   "metadata": {},
   "outputs": [],
   "source": [
    "import pandas as pd\n"
   ]
  },
  {
   "cell_type": "code",
   "execution_count": 2,
   "metadata": {},
   "outputs": [],
   "source": [
    "ft = \".cs\""
   ]
  },
  {
   "cell_type": "code",
   "execution_count": 3,
   "metadata": {},
   "outputs": [],
   "source": [
    "output_dir = \"/home/j/catalog/osl/ETL1-Pipeline/data/outputs/new/powertoys/\""
   ]
  },
  {
   "cell_type": "code",
   "execution_count": 4,
   "metadata": {},
   "outputs": [],
   "source": [
    "# uses \"commit\" type CSV\n",
    "inputToRead = \"/home/j/catalog/osl/GitHub-Repo-Extractor/outputs/powertoys_full/powertoys_full_commit_output.csv\""
   ]
  },
  {
   "cell_type": "code",
   "execution_count": 5,
   "metadata": {},
   "outputs": [
    {
     "data": {
      "text/plain": [
       "'/home/j/catalog/osl/ETL1-Pipeline/data/outputs/new/powertoys/dataframe_file_names.csv'"
      ]
     },
     "execution_count": 5,
     "metadata": {},
     "output_type": "execute_result"
    }
   ],
   "source": [
    "fileNameOutput_file = \"dataframe_file_names.csv\"\n",
    "\n",
    "fileNameOutput = f\"{output_dir}{fileNameOutput_file}\"\n",
    "\n",
    "fileNameOutput"
   ]
  },
  {
   "cell_type": "code",
   "execution_count": 6,
   "metadata": {},
   "outputs": [
    {
     "data": {
      "text/plain": [
       "'/home/j/catalog/osl/ETL1-Pipeline/data/outputs/new/powertoys/filesPR3BodyTitle2.txt'"
      ]
     },
     "execution_count": 6,
     "metadata": {},
     "output_type": "execute_result"
    }
   ],
   "source": [
    "filesPR3_TXT_Output_file = \"filesPR3BodyTitle2.txt\"\n",
    "\n",
    "filesPR3_TXT_Output = f\"{output_dir}{filesPR3_TXT_Output_file}\"\n",
    "\n",
    "filesPR3_TXT_Output"
   ]
  },
  {
   "cell_type": "code",
   "execution_count": 7,
   "metadata": {},
   "outputs": [
    {
     "data": {
      "text/plain": [
       "'/home/j/catalog/osl/ETL1-Pipeline/data/outputs/new/powertoys/filesPR3BodyTitle2.csv'"
      ]
     },
     "execution_count": 7,
     "metadata": {},
     "output_type": "execute_result"
    }
   ],
   "source": [
    "filesPR3_CSV_Output_file = \"filesPR3BodyTitle2.csv\"\n",
    "\n",
    "filesPR3_CSV_Output = f\"{output_dir}{filesPR3_CSV_Output_file}\"\n",
    "\n",
    "filesPR3_CSV_Output"
   ]
  },
  {
   "cell_type": "code",
   "execution_count": 8,
   "metadata": {},
   "outputs": [],
   "source": [
    "authorFilePath = pd.read_csv( inputToRead )\n"
   ]
  },
  {
   "cell_type": "code",
   "execution_count": 9,
   "metadata": {},
   "outputs": [
    {
     "data": {
      "text/html": [
       "<div>\n",
       "<style scoped>\n",
       "    .dataframe tbody tr th:only-of-type {\n",
       "        vertical-align: middle;\n",
       "    }\n",
       "\n",
       "    .dataframe tbody tr th {\n",
       "        vertical-align: top;\n",
       "    }\n",
       "\n",
       "    .dataframe thead th {\n",
       "        text-align: right;\n",
       "    }\n",
       "</style>\n",
       "<table border=\"1\" class=\"dataframe\">\n",
       "  <thead>\n",
       "    <tr style=\"text-align: right;\">\n",
       "      <th></th>\n",
       "      <th>Issue_Num</th>\n",
       "      <th>Author_Login</th>\n",
       "      <th>File_Name</th>\n",
       "      <th>Patch_Text</th>\n",
       "      <th>Commit_Message</th>\n",
       "      <th>Commit_Title</th>\n",
       "    </tr>\n",
       "  </thead>\n",
       "  <tbody>\n",
       "    <tr>\n",
       "      <th>0</th>\n",
       "      <td>1</td>\n",
       "      <td>Mike Harsh</td>\n",
       "      <td>['README.md']</td>\n",
       "      <td>@@ -9,11 +9,11 @@ PowerToys is a set of utilit...</td>\n",
       "      <td>NaN</td>\n",
       "      <td>Pushing the first main update to master</td>\n",
       "    </tr>\n",
       "    <tr>\n",
       "      <th>1</th>\n",
       "      <td>2</td>\n",
       "      <td>Cory Knox</td>\n",
       "      <td>['README.md']</td>\n",
       "      <td>@@ -23,7 +23,7 @@ The first two utilities we'r...</td>\n",
       "      <td>Just a few typos I noticed while reading throu...</td>\n",
       "      <td>fix a couple typos</td>\n",
       "    </tr>\n",
       "    <tr>\n",
       "      <th>2</th>\n",
       "      <td>9</td>\n",
       "      <td>Tomer Cohen</td>\n",
       "      <td>['README.md']</td>\n",
       "      <td>@@ -1,7 +1,7 @@\\n \\r\\n # Overview\\r\\n \\r\\n-Pow...</td>\n",
       "      <td>NaN</td>\n",
       "      <td>s/expereince/experience</td>\n",
       "    </tr>\n",
       "    <tr>\n",
       "      <th>3</th>\n",
       "      <td>25</td>\n",
       "      <td>NaN</td>\n",
       "      <td>['README.md']</td>\n",
       "      <td>@@ -1,7 +1,7 @@\\n \\r\\n # Overview\\r\\n \\r\\n-Pow...</td>\n",
       "      <td>Corrected letter transpositions, and capitaliz...</td>\n",
       "      <td>Minor spelling corrections</td>\n",
       "    </tr>\n",
       "    <tr>\n",
       "      <th>4</th>\n",
       "      <td>108</td>\n",
       "      <td>Meir Blachman</td>\n",
       "      <td>['README.md']</td>\n",
       "      <td>@@ -25,13 +25,13 @@ The first two utilities we...</td>\n",
       "      <td>NaN</td>\n",
       "      <td>add issue links to Backlog list</td>\n",
       "    </tr>\n",
       "  </tbody>\n",
       "</table>\n",
       "</div>"
      ],
      "text/plain": [
       "   Issue_Num   Author_Login      File_Name  \\\n",
       "0          1     Mike Harsh  ['README.md']   \n",
       "1          2      Cory Knox  ['README.md']   \n",
       "2          9    Tomer Cohen  ['README.md']   \n",
       "3         25            NaN  ['README.md']   \n",
       "4        108  Meir Blachman  ['README.md']   \n",
       "\n",
       "                                          Patch_Text  \\\n",
       "0  @@ -9,11 +9,11 @@ PowerToys is a set of utilit...   \n",
       "1  @@ -23,7 +23,7 @@ The first two utilities we'r...   \n",
       "2  @@ -1,7 +1,7 @@\\n \\r\\n # Overview\\r\\n \\r\\n-Pow...   \n",
       "3  @@ -1,7 +1,7 @@\\n \\r\\n # Overview\\r\\n \\r\\n-Pow...   \n",
       "4  @@ -25,13 +25,13 @@ The first two utilities we...   \n",
       "\n",
       "                                      Commit_Message  \\\n",
       "0                                                NaN   \n",
       "1  Just a few typos I noticed while reading throu...   \n",
       "2                                                NaN   \n",
       "3  Corrected letter transpositions, and capitaliz...   \n",
       "4                                                NaN   \n",
       "\n",
       "                              Commit_Title  \n",
       "0  Pushing the first main update to master  \n",
       "1                       fix a couple typos  \n",
       "2                  s/expereince/experience  \n",
       "3               Minor spelling corrections  \n",
       "4          add issue links to Backlog list  "
      ]
     },
     "execution_count": 9,
     "metadata": {},
     "output_type": "execute_result"
    }
   ],
   "source": [
    "authorFilePath.head()"
   ]
  },
  {
   "cell_type": "code",
   "execution_count": 10,
   "metadata": {},
   "outputs": [
    {
     "data": {
      "text/plain": [
       "(2749, 6)"
      ]
     },
     "execution_count": 10,
     "metadata": {},
     "output_type": "execute_result"
    }
   ],
   "source": [
    "authorFilePath.shape\n"
   ]
  },
  {
   "cell_type": "code",
   "execution_count": 11,
   "metadata": {},
   "outputs": [
    {
     "data": {
      "text/plain": [
       "RangeIndex(start=0, stop=2749, step=1)"
      ]
     },
     "execution_count": 11,
     "metadata": {},
     "output_type": "execute_result"
    }
   ],
   "source": [
    "authorFilePath.index\n"
   ]
  },
  {
   "cell_type": "code",
   "execution_count": 12,
   "metadata": {},
   "outputs": [
    {
     "data": {
      "text/plain": [
       "Index(['Issue_Num', 'Author_Login', 'File_Name', 'Patch_Text',\n",
       "       'Commit_Message', 'Commit_Title'],\n",
       "      dtype='object')"
      ]
     },
     "execution_count": 12,
     "metadata": {},
     "output_type": "execute_result"
    }
   ],
   "source": [
    "authorFilePath.columns\n"
   ]
  },
  {
   "cell_type": "code",
   "execution_count": 13,
   "metadata": {},
   "outputs": [
    {
     "data": {
      "text/plain": [
       "Issue_Num          int64\n",
       "Author_Login      object\n",
       "File_Name         object\n",
       "Patch_Text        object\n",
       "Commit_Message    object\n",
       "Commit_Title      object\n",
       "dtype: object"
      ]
     },
     "execution_count": 13,
     "metadata": {},
     "output_type": "execute_result"
    }
   ],
   "source": [
    "authorFilePath.dtypes\n"
   ]
  },
  {
   "cell_type": "code",
   "execution_count": 14,
   "metadata": {},
   "outputs": [],
   "source": [
    "authorFilePath2 = authorFilePath.copy()\n"
   ]
  },
  {
   "cell_type": "code",
   "execution_count": 15,
   "metadata": {},
   "outputs": [
    {
     "data": {
      "text/plain": [
       "Index(['Issue_Num', 'Author_Login', 'File_Name', 'Patch_Text',\n",
       "       'Commit_Message', 'Commit_Title'],\n",
       "      dtype='object')"
      ]
     },
     "execution_count": 15,
     "metadata": {},
     "output_type": "execute_result"
    }
   ],
   "source": [
    "authorFilePath2.columns\n"
   ]
  },
  {
   "cell_type": "code",
   "execution_count": 16,
   "metadata": {},
   "outputs": [
    {
     "data": {
      "text/plain": [
       "0                                         ['README.md']\n",
       "1                                         ['README.md']\n",
       "2                                         ['README.md']\n",
       "3                                         ['README.md']\n",
       "4                                         ['README.md']\n",
       "5     ['.gitattributes', '.github/ISSUE_TEMPLATE/bug...\n",
       "6                                         ['README.md']\n",
       "7              ['doc/planning/ShortcutGuideBacklog.md']\n",
       "8                                     ['src/README.md']\n",
       "9                                         ['README.md']\n",
       "10                 ['doc/planning/PowerToysBacklog.md']\n",
       "11                                        ['README.md']\n",
       "12                 ['src/modules/fancyzones/README.md']\n",
       "13    ['Logo.jpg', 'MTNDWidget.jpg', 'WindowsKeyShor...\n",
       "14                 ['doc/planning/PowerToysBacklog.md']\n",
       "15    ['README.md', 'doc/planning/FancyZonesBacklog....\n",
       "16    ['README.md', 'doc/planning/FancyZonesBacklog....\n",
       "17    ['installer/PowerToysSetup/CustomDialogs/WixUI...\n",
       "18                ['src/editor/settings-html/200.html']\n",
       "19    ['.pipelines/ci/ci.yml', '.pipelines/ci/templa...\n",
       "20                                        ['README.md']\n",
       "21                        ['doc/images/Logo-HiRes.png']\n",
       "22    ['installer/PowerToysSetup/CustomDialogs/PTLic...\n",
       "23    ['src/common/animation.cpp', 'src/common/anima...\n",
       "24                              ['src/editor/main.cpp']\n",
       "25    ['src/modules/shortcut_guide/overlay_window.cpp']\n",
       "26        ['src/modules/fancyzones/lib/FancyZones.cpp']\n",
       "27                                        ['README.md']\n",
       "28            ['src/modules/fancyzones/lib/Settings.h']\n",
       "29                                    ['src/README.md']\n",
       "30    ['installer/PowerToysSetup/Product.wxs', 'inst...\n",
       "Name: File_Name, dtype: object"
      ]
     },
     "execution_count": 16,
     "metadata": {},
     "output_type": "execute_result"
    }
   ],
   "source": [
    "authorFilePath2.loc[0:30,\"File_Name\"]"
   ]
  },
  {
   "cell_type": "code",
   "execution_count": 17,
   "metadata": {},
   "outputs": [
    {
     "name": "stderr",
     "output_type": "stream",
     "text": [
      "/tmp/ipykernel_7442/2980407755.py:1: FutureWarning: The default value of regex will change from True to False in a future version. In addition, single character regular expressions will*not* be treated as literal strings when regex=True.\n",
      "  file_names_without_brackets = authorFilePath2.File_Name.str.replace(\"[\",\"\")\n"
     ]
    }
   ],
   "source": [
    "file_names_without_brackets = authorFilePath2.File_Name.str.replace(\"[\",\"\")"
   ]
  },
  {
   "cell_type": "code",
   "execution_count": 18,
   "metadata": {},
   "outputs": [
    {
     "data": {
      "text/plain": [
       "pandas.core.series.Series"
      ]
     },
     "execution_count": 18,
     "metadata": {},
     "output_type": "execute_result"
    }
   ],
   "source": [
    "type(file_names_without_brackets)"
   ]
  },
  {
   "cell_type": "code",
   "execution_count": 19,
   "metadata": {},
   "outputs": [
    {
     "name": "stderr",
     "output_type": "stream",
     "text": [
      "/tmp/ipykernel_7442/3246466333.py:1: FutureWarning: The default value of regex will change from True to False in a future version. In addition, single character regular expressions will*not* be treated as literal strings when regex=True.\n",
      "  file_names_without_brackets2 = file_names_without_brackets.str.replace(\"]\",\"\")\n"
     ]
    }
   ],
   "source": [
    "file_names_without_brackets2 = file_names_without_brackets.str.replace(\"]\",\"\")"
   ]
  },
  {
   "cell_type": "code",
   "execution_count": 20,
   "metadata": {},
   "outputs": [
    {
     "data": {
      "text/plain": [
       "0    'README.md'\n",
       "1    'README.md'\n",
       "2    'README.md'\n",
       "3    'README.md'\n",
       "4    'README.md'\n",
       "Name: File_Name, dtype: object"
      ]
     },
     "execution_count": 20,
     "metadata": {},
     "output_type": "execute_result"
    }
   ],
   "source": [
    "file_names_without_brackets2.head()"
   ]
  },
  {
   "cell_type": "code",
   "execution_count": 21,
   "metadata": {},
   "outputs": [],
   "source": [
    "authorFilePath[\"files\"] = file_names_without_brackets2"
   ]
  },
  {
   "cell_type": "code",
   "execution_count": 22,
   "metadata": {},
   "outputs": [],
   "source": [
    "dataframe_file_names = authorFilePath.files.str.split(\",\", expand=True)"
   ]
  },
  {
   "cell_type": "code",
   "execution_count": 23,
   "metadata": {},
   "outputs": [],
   "source": [
    "dataframe_file_names[\"pr\"] = authorFilePath[\"Issue_Num\"]"
   ]
  },
  {
   "cell_type": "code",
   "execution_count": 24,
   "metadata": {},
   "outputs": [],
   "source": [
    "dataframe_file_names[\"title\"] = authorFilePath[\"Commit_Title\"]"
   ]
  },
  {
   "cell_type": "code",
   "execution_count": 25,
   "metadata": {},
   "outputs": [],
   "source": [
    "dataframe_file_names[\"body\"] = authorFilePath[\"Commit_Message\"] "
   ]
  },
  {
   "cell_type": "code",
   "execution_count": 26,
   "metadata": {},
   "outputs": [
    {
     "data": {
      "text/html": [
       "<div>\n",
       "<style scoped>\n",
       "    .dataframe tbody tr th:only-of-type {\n",
       "        vertical-align: middle;\n",
       "    }\n",
       "\n",
       "    .dataframe tbody tr th {\n",
       "        vertical-align: top;\n",
       "    }\n",
       "\n",
       "    .dataframe thead th {\n",
       "        text-align: right;\n",
       "    }\n",
       "</style>\n",
       "<table border=\"1\" class=\"dataframe\">\n",
       "  <thead>\n",
       "    <tr style=\"text-align: right;\">\n",
       "      <th></th>\n",
       "      <th>0</th>\n",
       "      <th>1</th>\n",
       "      <th>2</th>\n",
       "      <th>3</th>\n",
       "      <th>4</th>\n",
       "      <th>5</th>\n",
       "      <th>6</th>\n",
       "      <th>7</th>\n",
       "      <th>8</th>\n",
       "      <th>9</th>\n",
       "      <th>...</th>\n",
       "      <th>293</th>\n",
       "      <th>294</th>\n",
       "      <th>295</th>\n",
       "      <th>296</th>\n",
       "      <th>297</th>\n",
       "      <th>298</th>\n",
       "      <th>299</th>\n",
       "      <th>pr</th>\n",
       "      <th>title</th>\n",
       "      <th>body</th>\n",
       "    </tr>\n",
       "  </thead>\n",
       "  <tbody>\n",
       "    <tr>\n",
       "      <th>0</th>\n",
       "      <td>'README.md'</td>\n",
       "      <td>None</td>\n",
       "      <td>None</td>\n",
       "      <td>None</td>\n",
       "      <td>None</td>\n",
       "      <td>None</td>\n",
       "      <td>None</td>\n",
       "      <td>None</td>\n",
       "      <td>None</td>\n",
       "      <td>None</td>\n",
       "      <td>...</td>\n",
       "      <td>None</td>\n",
       "      <td>None</td>\n",
       "      <td>None</td>\n",
       "      <td>None</td>\n",
       "      <td>None</td>\n",
       "      <td>None</td>\n",
       "      <td>None</td>\n",
       "      <td>1</td>\n",
       "      <td>Pushing the first main update to master</td>\n",
       "      <td>NaN</td>\n",
       "    </tr>\n",
       "    <tr>\n",
       "      <th>1</th>\n",
       "      <td>'README.md'</td>\n",
       "      <td>None</td>\n",
       "      <td>None</td>\n",
       "      <td>None</td>\n",
       "      <td>None</td>\n",
       "      <td>None</td>\n",
       "      <td>None</td>\n",
       "      <td>None</td>\n",
       "      <td>None</td>\n",
       "      <td>None</td>\n",
       "      <td>...</td>\n",
       "      <td>None</td>\n",
       "      <td>None</td>\n",
       "      <td>None</td>\n",
       "      <td>None</td>\n",
       "      <td>None</td>\n",
       "      <td>None</td>\n",
       "      <td>None</td>\n",
       "      <td>2</td>\n",
       "      <td>fix a couple typos</td>\n",
       "      <td>Just a few typos I noticed while reading throu...</td>\n",
       "    </tr>\n",
       "    <tr>\n",
       "      <th>2</th>\n",
       "      <td>'README.md'</td>\n",
       "      <td>None</td>\n",
       "      <td>None</td>\n",
       "      <td>None</td>\n",
       "      <td>None</td>\n",
       "      <td>None</td>\n",
       "      <td>None</td>\n",
       "      <td>None</td>\n",
       "      <td>None</td>\n",
       "      <td>None</td>\n",
       "      <td>...</td>\n",
       "      <td>None</td>\n",
       "      <td>None</td>\n",
       "      <td>None</td>\n",
       "      <td>None</td>\n",
       "      <td>None</td>\n",
       "      <td>None</td>\n",
       "      <td>None</td>\n",
       "      <td>9</td>\n",
       "      <td>s/expereince/experience</td>\n",
       "      <td>NaN</td>\n",
       "    </tr>\n",
       "    <tr>\n",
       "      <th>3</th>\n",
       "      <td>'README.md'</td>\n",
       "      <td>None</td>\n",
       "      <td>None</td>\n",
       "      <td>None</td>\n",
       "      <td>None</td>\n",
       "      <td>None</td>\n",
       "      <td>None</td>\n",
       "      <td>None</td>\n",
       "      <td>None</td>\n",
       "      <td>None</td>\n",
       "      <td>...</td>\n",
       "      <td>None</td>\n",
       "      <td>None</td>\n",
       "      <td>None</td>\n",
       "      <td>None</td>\n",
       "      <td>None</td>\n",
       "      <td>None</td>\n",
       "      <td>None</td>\n",
       "      <td>25</td>\n",
       "      <td>Minor spelling corrections</td>\n",
       "      <td>Corrected letter transpositions, and capitaliz...</td>\n",
       "    </tr>\n",
       "    <tr>\n",
       "      <th>4</th>\n",
       "      <td>'README.md'</td>\n",
       "      <td>None</td>\n",
       "      <td>None</td>\n",
       "      <td>None</td>\n",
       "      <td>None</td>\n",
       "      <td>None</td>\n",
       "      <td>None</td>\n",
       "      <td>None</td>\n",
       "      <td>None</td>\n",
       "      <td>None</td>\n",
       "      <td>...</td>\n",
       "      <td>None</td>\n",
       "      <td>None</td>\n",
       "      <td>None</td>\n",
       "      <td>None</td>\n",
       "      <td>None</td>\n",
       "      <td>None</td>\n",
       "      <td>None</td>\n",
       "      <td>108</td>\n",
       "      <td>add issue links to Backlog list</td>\n",
       "      <td>NaN</td>\n",
       "    </tr>\n",
       "  </tbody>\n",
       "</table>\n",
       "<p>5 rows × 303 columns</p>\n",
       "</div>"
      ],
      "text/plain": [
       "             0     1     2     3     4     5     6     7     8     9  ...  \\\n",
       "0  'README.md'  None  None  None  None  None  None  None  None  None  ...   \n",
       "1  'README.md'  None  None  None  None  None  None  None  None  None  ...   \n",
       "2  'README.md'  None  None  None  None  None  None  None  None  None  ...   \n",
       "3  'README.md'  None  None  None  None  None  None  None  None  None  ...   \n",
       "4  'README.md'  None  None  None  None  None  None  None  None  None  ...   \n",
       "\n",
       "    293   294   295   296   297   298   299   pr  \\\n",
       "0  None  None  None  None  None  None  None    1   \n",
       "1  None  None  None  None  None  None  None    2   \n",
       "2  None  None  None  None  None  None  None    9   \n",
       "3  None  None  None  None  None  None  None   25   \n",
       "4  None  None  None  None  None  None  None  108   \n",
       "\n",
       "                                     title  \\\n",
       "0  Pushing the first main update to master   \n",
       "1                       fix a couple typos   \n",
       "2                  s/expereince/experience   \n",
       "3               Minor spelling corrections   \n",
       "4          add issue links to Backlog list   \n",
       "\n",
       "                                                body  \n",
       "0                                                NaN  \n",
       "1  Just a few typos I noticed while reading throu...  \n",
       "2                                                NaN  \n",
       "3  Corrected letter transpositions, and capitaliz...  \n",
       "4                                                NaN  \n",
       "\n",
       "[5 rows x 303 columns]"
      ]
     },
     "execution_count": 26,
     "metadata": {},
     "output_type": "execute_result"
    }
   ],
   "source": [
    "dataframe_file_names.head()"
   ]
  },
  {
   "cell_type": "code",
   "execution_count": 27,
   "metadata": {},
   "outputs": [],
   "source": [
    "dataframe_file_names.to_csv( fileNameOutput, encoding='utf-8', index=False)\n",
    "            "
   ]
  },
  {
   "cell_type": "code",
   "execution_count": 28,
   "metadata": {},
   "outputs": [
    {
     "data": {
      "text/plain": [
       "0                                    'README.md'\n",
       "1                                           None\n",
       "2                                           None\n",
       "3                                           None\n",
       "4                                           None\n",
       "                          ...                   \n",
       "298                                         None\n",
       "299                                         None\n",
       "pr                                             1\n",
       "title    Pushing the first main update to master\n",
       "body                                         NaN\n",
       "Name: 0, Length: 303, dtype: object"
      ]
     },
     "execution_count": 28,
     "metadata": {},
     "output_type": "execute_result"
    }
   ],
   "source": [
    "dataframe_file_names.loc[0,:]    "
   ]
  },
  {
   "cell_type": "code",
   "execution_count": 29,
   "metadata": {},
   "outputs": [
    {
     "data": {
      "text/plain": [
       "pandas.core.frame.DataFrame"
      ]
     },
     "execution_count": 29,
     "metadata": {},
     "output_type": "execute_result"
    }
   ],
   "source": [
    "type(dataframe_file_names.loc[:,:])"
   ]
  },
  {
   "cell_type": "code",
   "execution_count": 30,
   "metadata": {},
   "outputs": [
    {
     "name": "stdout",
     "output_type": "stream",
     "text": [
      "0\n",
      "1\n",
      "2\n",
      "3\n",
      "4\n",
      "5\n",
      "6\n",
      "7\n",
      "8\n",
      "9\n",
      "10\n",
      "11\n",
      "12\n",
      "13\n",
      "14\n",
      "15\n",
      "16\n",
      "17\n",
      "18\n",
      "19\n",
      "20\n",
      "21\n",
      "22\n",
      "23\n",
      "24\n",
      "25\n",
      "26\n",
      "27\n",
      "28\n",
      "29\n",
      "30\n",
      "31\n",
      "32\n",
      "33\n",
      "34\n",
      "35\n",
      "36\n",
      "37\n",
      "38\n",
      "39\n",
      "40\n",
      "41\n",
      "42\n",
      "43\n",
      "44\n",
      "45\n",
      "46\n",
      "47\n",
      "48\n",
      "49\n",
      "50\n",
      "51\n",
      "52\n",
      "53\n",
      "54\n",
      "55\n",
      "56\n",
      "57\n",
      "58\n",
      "59\n",
      "60\n",
      "61\n",
      "62\n",
      "63\n",
      "64\n",
      "65\n",
      "66\n",
      "67\n",
      "68\n",
      "69\n",
      "70\n",
      "71\n",
      "72\n",
      "73\n",
      "74\n",
      "75\n",
      "76\n",
      "77\n",
      "78\n",
      "79\n",
      "80\n",
      "81\n",
      "82\n",
      "83\n",
      "84\n",
      "85\n",
      "86\n",
      "87\n",
      "88\n",
      "89\n",
      "90\n",
      "91\n",
      "92\n",
      "93\n",
      "94\n",
      "95\n",
      "96\n",
      "97\n",
      "98\n",
      "99\n",
      "100\n",
      "101\n",
      "102\n",
      "103\n",
      "104\n",
      "105\n",
      "106\n",
      "107\n",
      "108\n",
      "109\n",
      "110\n",
      "111\n",
      "112\n",
      "113\n",
      "114\n",
      "115\n",
      "116\n",
      "117\n",
      "118\n",
      "119\n",
      "120\n",
      "121\n",
      "122\n",
      "123\n",
      "124\n",
      "125\n",
      "126\n",
      "127\n",
      "128\n",
      "129\n",
      "130\n",
      "131\n",
      "132\n",
      "133\n",
      "134\n",
      "135\n",
      "136\n",
      "137\n",
      "138\n",
      "139\n",
      "140\n",
      "141\n",
      "142\n",
      "143\n",
      "144\n",
      "145\n",
      "146\n",
      "147\n",
      "148\n",
      "149\n",
      "150\n",
      "151\n",
      "152\n",
      "153\n",
      "154\n",
      "155\n",
      "156\n",
      "157\n",
      "158\n",
      "159\n",
      "160\n",
      "161\n",
      "162\n",
      "163\n",
      "164\n",
      "165\n",
      "166\n",
      "167\n",
      "168\n",
      "169\n",
      "170\n",
      "171\n",
      "172\n",
      "173\n",
      "174\n",
      "175\n",
      "176\n",
      "177\n",
      "178\n",
      "179\n",
      "180\n",
      "181\n",
      "182\n",
      "183\n",
      "184\n",
      "185\n",
      "186\n",
      "187\n",
      "188\n",
      "189\n",
      "190\n",
      "191\n",
      "192\n",
      "193\n",
      "194\n",
      "195\n",
      "196\n",
      "197\n",
      "198\n",
      "199\n",
      "200\n",
      "201\n",
      "202\n",
      "203\n",
      "204\n",
      "205\n",
      "206\n",
      "207\n",
      "208\n",
      "209\n",
      "210\n",
      "211\n",
      "212\n",
      "213\n",
      "214\n",
      "215\n",
      "216\n",
      "217\n",
      "218\n",
      "219\n",
      "220\n",
      "221\n",
      "222\n",
      "223\n",
      "224\n",
      "225\n",
      "226\n",
      "227\n",
      "228\n",
      "229\n",
      "230\n",
      "231\n",
      "232\n",
      "233\n",
      "234\n",
      "235\n",
      "236\n",
      "237\n",
      "238\n",
      "239\n",
      "240\n",
      "241\n",
      "242\n",
      "243\n",
      "244\n",
      "245\n",
      "246\n",
      "247\n",
      "248\n",
      "249\n",
      "250\n",
      "251\n",
      "252\n",
      "253\n",
      "254\n",
      "255\n",
      "256\n",
      "257\n",
      "258\n",
      "259\n",
      "260\n",
      "261\n",
      "262\n",
      "263\n",
      "264\n",
      "265\n",
      "266\n",
      "267\n",
      "268\n",
      "269\n",
      "270\n",
      "271\n",
      "272\n",
      "273\n",
      "274\n",
      "275\n",
      "276\n",
      "277\n",
      "278\n",
      "279\n",
      "280\n",
      "281\n",
      "282\n",
      "283\n",
      "284\n",
      "285\n",
      "286\n",
      "287\n",
      "288\n",
      "289\n",
      "290\n",
      "291\n",
      "292\n",
      "293\n",
      "294\n",
      "295\n",
      "296\n",
      "297\n",
      "298\n",
      "299\n",
      "pr\n",
      "title\n",
      "body\n"
     ]
    }
   ],
   "source": [
    "for row in dataframe_file_names:\n",
    "    print (row)\n",
    "    \n",
    "    "
   ]
  },
  {
   "cell_type": "code",
   "execution_count": 31,
   "metadata": {},
   "outputs": [],
   "source": [
    "files_list3 = []\n",
    "\n",
    "def filter_filetype(lines):\n",
    "\n",
    "    for i, v in lines.items():\n",
    "        \n",
    "        pr = lines[\"pr\"]\n",
    "        \n",
    "        #v = lines[\"java\"]\n",
    "        \n",
    "        body = str(lines[\"body\"])\n",
    "        #type(body)\n",
    "        #print(body)\n",
    "        body = body.replace(\"\\n\", \" \")\n",
    "        body = body.replace(\"\\\"\", \" \")\n",
    "        body = body.replace(\"\\'\", \" \")\n",
    "        body = body.replace(\"`\", \" \")\n",
    "        body = body.replace(\";\", \" \")\n",
    "        body = body.replace(\",\", \" \")\n",
    "        \n",
    "        title = lines[\"title\"]\n",
    "        title = title.replace(\"\\n\", \" \")\n",
    "        title = title.replace(\"\\\"\", \" \")\n",
    "        title = title.replace(\"\\'\", \" \")\n",
    "        title = title.replace(\"`\", \" \")\n",
    "        title = title.replace(\";\", \" \")\n",
    "        title = title.replace(\",\", \" \")\n",
    "        #print(\"Lines:\",i, lines[\"pr\"])\n",
    "        if v is not None:\n",
    "            if type(v) == str:\n",
    "                if i == \"pr\" or i == \"body\" or i == \"title\":\n",
    "                    pass\n",
    "                else:\n",
    "                    if (v.find( ft ) != -1): \n",
    "\n",
    "                        data = pr,\";\",v,\";\",title,\";\",body\n",
    "                        files_list3.append(data)\n",
    "                    #else:\n",
    "                        #print(\"not a java file:\",v, \" idx\", i)\n",
    "            #else:\n",
    "                #print(\"not a String:\", v, \" idx\", i)\n",
    "        #else:\n",
    "            #print(\"None:\", v, \" idx\", i)\n",
    "    "
   ]
  },
  {
   "cell_type": "code",
   "execution_count": 32,
   "metadata": {},
   "outputs": [
    {
     "data": {
      "text/plain": [
       "0       None\n",
       "1       None\n",
       "2       None\n",
       "3       None\n",
       "4       None\n",
       "        ... \n",
       "2744    None\n",
       "2745    None\n",
       "2746    None\n",
       "2747    None\n",
       "2748    None\n",
       "Length: 2749, dtype: object"
      ]
     },
     "execution_count": 32,
     "metadata": {},
     "output_type": "execute_result"
    }
   ],
   "source": [
    "dataframe_file_names.apply(filter_filetype, axis=1)"
   ]
  },
  {
   "cell_type": "code",
   "execution_count": 33,
   "metadata": {},
   "outputs": [
    {
     "data": {
      "text/html": [
       "<div>\n",
       "<style scoped>\n",
       "    .dataframe tbody tr th:only-of-type {\n",
       "        vertical-align: middle;\n",
       "    }\n",
       "\n",
       "    .dataframe tbody tr th {\n",
       "        vertical-align: top;\n",
       "    }\n",
       "\n",
       "    .dataframe thead th {\n",
       "        text-align: right;\n",
       "    }\n",
       "</style>\n",
       "<table border=\"1\" class=\"dataframe\">\n",
       "  <thead>\n",
       "    <tr style=\"text-align: right;\">\n",
       "      <th></th>\n",
       "      <th>0</th>\n",
       "      <th>1</th>\n",
       "      <th>2</th>\n",
       "      <th>3</th>\n",
       "      <th>4</th>\n",
       "      <th>5</th>\n",
       "      <th>6</th>\n",
       "    </tr>\n",
       "  </thead>\n",
       "  <tbody>\n",
       "    <tr>\n",
       "      <th>0</th>\n",
       "      <td>151</td>\n",
       "      <td>;</td>\n",
       "      <td>'src/modules/fancyzones/editor/FancyZonesEdit...</td>\n",
       "      <td>;</td>\n",
       "      <td>First preview release</td>\n",
       "      <td>;</td>\n",
       "      <td>FancyZones and Shortcut Guide initial commit</td>\n",
       "    </tr>\n",
       "    <tr>\n",
       "      <th>1</th>\n",
       "      <td>151</td>\n",
       "      <td>;</td>\n",
       "      <td>'src/modules/fancyzones/editor/FancyZonesEdit...</td>\n",
       "      <td>;</td>\n",
       "      <td>First preview release</td>\n",
       "      <td>;</td>\n",
       "      <td>FancyZones and Shortcut Guide initial commit</td>\n",
       "    </tr>\n",
       "    <tr>\n",
       "      <th>2</th>\n",
       "      <td>151</td>\n",
       "      <td>;</td>\n",
       "      <td>'src/modules/fancyzones/editor/FancyZonesEdit...</td>\n",
       "      <td>;</td>\n",
       "      <td>First preview release</td>\n",
       "      <td>;</td>\n",
       "      <td>FancyZones and Shortcut Guide initial commit</td>\n",
       "    </tr>\n",
       "    <tr>\n",
       "      <th>3</th>\n",
       "      <td>151</td>\n",
       "      <td>;</td>\n",
       "      <td>'src/modules/fancyzones/editor/FancyZonesEdit...</td>\n",
       "      <td>;</td>\n",
       "      <td>First preview release</td>\n",
       "      <td>;</td>\n",
       "      <td>FancyZones and Shortcut Guide initial commit</td>\n",
       "    </tr>\n",
       "    <tr>\n",
       "      <th>4</th>\n",
       "      <td>151</td>\n",
       "      <td>;</td>\n",
       "      <td>'src/modules/fancyzones/editor/FancyZonesEdit...</td>\n",
       "      <td>;</td>\n",
       "      <td>First preview release</td>\n",
       "      <td>;</td>\n",
       "      <td>FancyZones and Shortcut Guide initial commit</td>\n",
       "    </tr>\n",
       "    <tr>\n",
       "      <th>...</th>\n",
       "      <td>...</td>\n",
       "      <td>...</td>\n",
       "      <td>...</td>\n",
       "      <td>...</td>\n",
       "      <td>...</td>\n",
       "      <td>...</td>\n",
       "      <td>...</td>\n",
       "    </tr>\n",
       "    <tr>\n",
       "      <th>6369</th>\n",
       "      <td>13928</td>\n",
       "      <td>;</td>\n",
       "      <td>'src/modules/fancyzones/editor/FancyZonesEdito...</td>\n",
       "      <td>;</td>\n",
       "      <td>[FancyZones Editor] Logger</td>\n",
       "      <td>;</td>\n",
       "      <td>## Summary of the Pull Request  **What is this...</td>\n",
       "    </tr>\n",
       "    <tr>\n",
       "      <th>6370</th>\n",
       "      <td>13930</td>\n",
       "      <td>;</td>\n",
       "      <td>'src/modules/fancyzones/editor/FancyZonesEdito...</td>\n",
       "      <td>;</td>\n",
       "      <td>[FancyZones Editor] Crash fix</td>\n",
       "      <td>;</td>\n",
       "      <td>## Summary of the Pull Request  **What is this...</td>\n",
       "    </tr>\n",
       "    <tr>\n",
       "      <th>6371</th>\n",
       "      <td>13930</td>\n",
       "      <td>;</td>\n",
       "      <td>'src/modules/fancyzones/editor/FancyZonesEdit...</td>\n",
       "      <td>;</td>\n",
       "      <td>[FancyZones Editor] Crash fix</td>\n",
       "      <td>;</td>\n",
       "      <td>## Summary of the Pull Request  **What is this...</td>\n",
       "    </tr>\n",
       "    <tr>\n",
       "      <th>6372</th>\n",
       "      <td>13963</td>\n",
       "      <td>;</td>\n",
       "      <td>'src/modules/fancyzones/editor/FancyZonesEdito...</td>\n",
       "      <td>;</td>\n",
       "      <td>Announce opening Edit Layout dialog</td>\n",
       "      <td>;</td>\n",
       "      <td>## Summary of the Pull Request  **What is this...</td>\n",
       "    </tr>\n",
       "    <tr>\n",
       "      <th>6373</th>\n",
       "      <td>13963</td>\n",
       "      <td>;</td>\n",
       "      <td>'src/modules/fancyzones/editor/FancyZonesEdit...</td>\n",
       "      <td>;</td>\n",
       "      <td>Announce opening Edit Layout dialog</td>\n",
       "      <td>;</td>\n",
       "      <td>## Summary of the Pull Request  **What is this...</td>\n",
       "    </tr>\n",
       "  </tbody>\n",
       "</table>\n",
       "<p>6374 rows × 7 columns</p>\n",
       "</div>"
      ],
      "text/plain": [
       "          0  1                                                  2  3  \\\n",
       "0       151  ;   'src/modules/fancyzones/editor/FancyZonesEdit...  ;   \n",
       "1       151  ;   'src/modules/fancyzones/editor/FancyZonesEdit...  ;   \n",
       "2       151  ;   'src/modules/fancyzones/editor/FancyZonesEdit...  ;   \n",
       "3       151  ;   'src/modules/fancyzones/editor/FancyZonesEdit...  ;   \n",
       "4       151  ;   'src/modules/fancyzones/editor/FancyZonesEdit...  ;   \n",
       "...     ... ..                                                ... ..   \n",
       "6369  13928  ;  'src/modules/fancyzones/editor/FancyZonesEdito...  ;   \n",
       "6370  13930  ;  'src/modules/fancyzones/editor/FancyZonesEdito...  ;   \n",
       "6371  13930  ;   'src/modules/fancyzones/editor/FancyZonesEdit...  ;   \n",
       "6372  13963  ;  'src/modules/fancyzones/editor/FancyZonesEdito...  ;   \n",
       "6373  13963  ;   'src/modules/fancyzones/editor/FancyZonesEdit...  ;   \n",
       "\n",
       "                                        4  5  \\\n",
       "0                   First preview release  ;   \n",
       "1                   First preview release  ;   \n",
       "2                   First preview release  ;   \n",
       "3                   First preview release  ;   \n",
       "4                   First preview release  ;   \n",
       "...                                   ... ..   \n",
       "6369           [FancyZones Editor] Logger  ;   \n",
       "6370        [FancyZones Editor] Crash fix  ;   \n",
       "6371        [FancyZones Editor] Crash fix  ;   \n",
       "6372  Announce opening Edit Layout dialog  ;   \n",
       "6373  Announce opening Edit Layout dialog  ;   \n",
       "\n",
       "                                                      6  \n",
       "0          FancyZones and Shortcut Guide initial commit  \n",
       "1          FancyZones and Shortcut Guide initial commit  \n",
       "2          FancyZones and Shortcut Guide initial commit  \n",
       "3          FancyZones and Shortcut Guide initial commit  \n",
       "4          FancyZones and Shortcut Guide initial commit  \n",
       "...                                                 ...  \n",
       "6369  ## Summary of the Pull Request  **What is this...  \n",
       "6370  ## Summary of the Pull Request  **What is this...  \n",
       "6371  ## Summary of the Pull Request  **What is this...  \n",
       "6372  ## Summary of the Pull Request  **What is this...  \n",
       "6373  ## Summary of the Pull Request  **What is this...  \n",
       "\n",
       "[6374 rows x 7 columns]"
      ]
     },
     "execution_count": 33,
     "metadata": {},
     "output_type": "execute_result"
    }
   ],
   "source": [
    "df_fn_filtered3 = pd.DataFrame(files_list3)\n",
    "\n",
    "df_fn_filtered3"
   ]
  },
  {
   "cell_type": "code",
   "execution_count": 34,
   "metadata": {},
   "outputs": [],
   "source": [
    "files_list3 = []"
   ]
  },
  {
   "cell_type": "code",
   "execution_count": 35,
   "metadata": {},
   "outputs": [],
   "source": [
    "pd.set_option('display.width', 30000)\n",
    "pd.set_option('display.max_columns', 1000)\n",
    "pd.set_option('display.max_colwidth', 1000)"
   ]
  },
  {
   "cell_type": "code",
   "execution_count": 36,
   "metadata": {},
   "outputs": [
    {
     "data": {
      "text/plain": [
       "0     FancyZones and Shortcut Guide initial commit\n",
       "1     FancyZones and Shortcut Guide initial commit\n",
       "2     FancyZones and Shortcut Guide initial commit\n",
       "3     FancyZones and Shortcut Guide initial commit\n",
       "4     FancyZones and Shortcut Guide initial commit\n",
       "5     FancyZones and Shortcut Guide initial commit\n",
       "6     FancyZones and Shortcut Guide initial commit\n",
       "7     FancyZones and Shortcut Guide initial commit\n",
       "8     FancyZones and Shortcut Guide initial commit\n",
       "9     FancyZones and Shortcut Guide initial commit\n",
       "10    FancyZones and Shortcut Guide initial commit\n",
       "Name: 6, dtype: object"
      ]
     },
     "execution_count": 36,
     "metadata": {},
     "output_type": "execute_result"
    }
   ],
   "source": [
    "df_fn_filtered3.loc[0:10,6]\n"
   ]
  },
  {
   "cell_type": "code",
   "execution_count": 37,
   "metadata": {},
   "outputs": [
    {
     "data": {
      "text/plain": [
       "0"
      ]
     },
     "execution_count": 37,
     "metadata": {},
     "output_type": "execute_result"
    }
   ],
   "source": [
    "import gc\n",
    "gc.collect()"
   ]
  },
  {
   "cell_type": "code",
   "execution_count": 38,
   "metadata": {},
   "outputs": [],
   "source": [
    "df_fn_filtered3.to_csv( filesPR3_CSV_Output, encoding='utf-8', header=False, index=False, sep='\\t' )"
   ]
  },
  {
   "cell_type": "code",
   "execution_count": 39,
   "metadata": {},
   "outputs": [],
   "source": [
    "import numpy as np\n",
    "np.savetxt( filesPR3_TXT_Output, df_fn_filtered3.values, fmt='%s', delimiter=' ' )"
   ]
  },
  {
   "cell_type": "code",
   "execution_count": 40,
   "metadata": {},
   "outputs": [],
   "source": [
    "del df_fn_filtered3"
   ]
  },
  {
   "cell_type": "code",
   "execution_count": null,
   "metadata": {},
   "outputs": [],
   "source": []
  },
  {
   "cell_type": "code",
   "execution_count": null,
   "metadata": {},
   "outputs": [],
   "source": []
  }
 ],
 "metadata": {
  "kernelspec": {
   "display_name": "Python 3 (ipykernel)",
   "language": "python",
   "name": "python3"
  },
  "language_info": {
   "codemirror_mode": {
    "name": "ipython",
    "version": 3
   },
   "file_extension": ".py",
   "mimetype": "text/x-python",
   "name": "python",
   "nbconvert_exporter": "python",
   "pygments_lexer": "ipython3",
   "version": "3.9.7"
  }
 },
 "nbformat": 4,
 "nbformat_minor": 2
}
